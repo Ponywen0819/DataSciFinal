{
 "cells": [
  {
   "cell_type": "code",
   "execution_count": 1,
   "metadata": {
    "ExecuteTime": {
     "end_time": "2024-05-28T20:28:29.446447Z",
     "start_time": "2024-05-28T20:28:28.194399Z"
    }
   },
   "outputs": [
    {
     "name": "stdout",
     "output_type": "stream",
     "text": [
      "Requirement already satisfied: pyreadstat in ./venv/lib/python3.9/site-packages (1.2.7)\r\n",
      "Requirement already satisfied: pyarrow in ./venv/lib/python3.9/site-packages (16.1.0)\r\n",
      "Requirement already satisfied: matplotlib in ./venv/lib/python3.9/site-packages (3.9.0)\r\n",
      "Requirement already satisfied: pandas>=1.2.0 in ./venv/lib/python3.9/site-packages (from pyreadstat) (2.2.2)\r\n",
      "Requirement already satisfied: numpy>=1.16.6 in ./venv/lib/python3.9/site-packages (from pyarrow) (1.26.4)\r\n",
      "Requirement already satisfied: kiwisolver>=1.3.1 in ./venv/lib/python3.9/site-packages (from matplotlib) (1.4.5)\r\n",
      "Requirement already satisfied: importlib-resources>=3.2.0 in ./venv/lib/python3.9/site-packages (from matplotlib) (6.4.0)\r\n",
      "Requirement already satisfied: cycler>=0.10 in ./venv/lib/python3.9/site-packages (from matplotlib) (0.12.1)\r\n",
      "Requirement already satisfied: packaging>=20.0 in ./venv/lib/python3.9/site-packages (from matplotlib) (24.0)\r\n",
      "Requirement already satisfied: fonttools>=4.22.0 in ./venv/lib/python3.9/site-packages (from matplotlib) (4.52.4)\r\n",
      "Requirement already satisfied: contourpy>=1.0.1 in ./venv/lib/python3.9/site-packages (from matplotlib) (1.2.1)\r\n",
      "Requirement already satisfied: pyparsing>=2.3.1 in ./venv/lib/python3.9/site-packages (from matplotlib) (3.1.2)\r\n",
      "Requirement already satisfied: python-dateutil>=2.7 in ./venv/lib/python3.9/site-packages (from matplotlib) (2.9.0.post0)\r\n",
      "Requirement already satisfied: pillow>=8 in ./venv/lib/python3.9/site-packages (from matplotlib) (10.3.0)\r\n",
      "Requirement already satisfied: zipp>=3.1.0 in ./venv/lib/python3.9/site-packages (from importlib-resources>=3.2.0->matplotlib) (3.19.0)\r\n",
      "Requirement already satisfied: pytz>=2020.1 in ./venv/lib/python3.9/site-packages (from pandas>=1.2.0->pyreadstat) (2024.1)\r\n",
      "Requirement already satisfied: tzdata>=2022.7 in ./venv/lib/python3.9/site-packages (from pandas>=1.2.0->pyreadstat) (2024.1)\r\n",
      "Requirement already satisfied: six>=1.5 in ./venv/lib/python3.9/site-packages (from python-dateutil>=2.7->matplotlib) (1.16.0)\r\n",
      "\r\n",
      "\u001B[1m[\u001B[0m\u001B[34;49mnotice\u001B[0m\u001B[1;39;49m]\u001B[0m\u001B[39;49m A new release of pip available: \u001B[0m\u001B[31;49m22.3.1\u001B[0m\u001B[39;49m -> \u001B[0m\u001B[32;49m24.0\u001B[0m\r\n",
      "\u001B[1m[\u001B[0m\u001B[34;49mnotice\u001B[0m\u001B[1;39;49m]\u001B[0m\u001B[39;49m To update, run: \u001B[0m\u001B[32;49mpip install --upgrade pip\u001B[0m\r\n"
     ]
    }
   ],
   "source": [
    "! pip install pyreadstat pyarrow matplotlib"
   ]
  },
  {
   "cell_type": "code",
   "outputs": [],
   "source": [
    "import pandas as pd\n",
    "\n",
    "Taiwan_QQQ = pd.read_feather(\"Cleaned_Reading.feather\")\n",
    "\n",
    "# 切割資料集為訓練集和測試集\n",
    "from sklearn.model_selection import train_test_split\n",
    "X = Taiwan_QQQ.drop(['Reading_level'], axis=1)\n",
    "y = Taiwan_QQQ['Reading_level']\n",
    "X_train, X_test, y_train, y_test = train_test_split(X, y, test_size=0.2, random_state=42)"
   ],
   "metadata": {
    "ExecuteTime": {
     "end_time": "2024-05-28T20:28:32.520564Z",
     "start_time": "2024-05-28T20:28:31.602632Z"
    }
   },
   "execution_count": 2
  },
  {
   "cell_type": "code",
   "outputs": [
    {
     "name": "stdout",
     "output_type": "stream",
     "text": [
      "JOYREAD       0.113546\n",
      "METASPAM      0.102743\n",
      "ST165Q04IA    0.093242\n",
      "ST225Q06HA    0.075798\n",
      "METASUM       0.075594\n",
      "                ...   \n",
      "ST221Q05HA    0.029640\n",
      "ST196Q02HA    0.029559\n",
      "IC002Q01HA    0.029541\n",
      "ST196Q05HA    0.028997\n",
      "ST161Q06HA    0.028868\n",
      "Length: 100, dtype: float64\n"
     ]
    }
   ],
   "source": [
    "from sklearn.feature_selection import mutual_info_classif\n",
    "import pandas as pd\n",
    "\n",
    "mi = mutual_info_classif(X_train, y_train)\n",
    "mi_scores = pd.Series(mi, index=X.columns)\n",
    "mi_scores = mi_scores.sort_values(ascending=False)  # 降序排序\n",
    "print(mi_scores[:100])"
   ],
   "metadata": {
    "ExecuteTime": {
     "end_time": "2024-05-28T20:28:39.559756Z",
     "start_time": "2024-05-28T20:28:32.524531Z"
    }
   },
   "execution_count": 3
  },
  {
   "cell_type": "code",
   "outputs": [
    {
     "data": {
      "text/plain": "        JOYREAD  METASPAM  ST165Q04IA  ST225Q06HA  METASUM  SCREADCOMP  \\\n571621  -0.6996     -1.41         3.0         0.0    -0.18     -1.0985   \n568626   0.6380      0.42         4.0         1.0     1.36      0.1222   \n572855  -2.7114      0.42         4.0         1.0     0.21     -2.4403   \n573892  -0.9615     -1.41         1.0         0.0    -1.72     -1.4704   \n573109   1.4712     -0.04         4.0         1.0    -0.57      0.1222   \n\n        INFOCAR  HOMESCH  ST160Q01IA  GCAWARE  ...  ST150Q02IA  TEACHINT  \\\n571621   2.2523  -2.2971         4.0   0.1316  ...         2.0   -0.3449   \n568626  -0.6558   0.0303         2.0  -0.0549  ...         4.0   -0.5905   \n572855  -1.0276  -2.2971         4.0  -0.0549  ...         3.0    0.2182   \n573892  -1.0276  -0.9320         4.0  -1.2902  ...         4.0   -0.6573   \n573109  -1.9096   0.4754         2.0  -3.4944  ...         3.0   -1.0615   \n\n        IC150Q07HA  ST196Q04HA  ICTSCH  ST221Q05HA  ST196Q02HA  IC002Q01HA  \\\n571621         1.0         4.0    10.0         1.0         4.0         4.0   \n568626         1.0         3.0     4.0         1.0         3.0         2.0   \n572855         1.0         3.0     6.0         2.0         3.0         2.0   \n573892         1.0         1.0     1.0         2.0         1.0         4.0   \n573109         1.0         1.0     6.0         2.0         1.0         3.0   \n\n        ST196Q05HA  ST161Q06HA  \n571621         4.0         2.0  \n568626         4.0         2.0  \n572855         3.0         4.0  \n573892         1.0         4.0  \n573109         1.0         1.0  \n\n[5 rows x 100 columns]",
      "text/html": "<div>\n<style scoped>\n    .dataframe tbody tr th:only-of-type {\n        vertical-align: middle;\n    }\n\n    .dataframe tbody tr th {\n        vertical-align: top;\n    }\n\n    .dataframe thead th {\n        text-align: right;\n    }\n</style>\n<table border=\"1\" class=\"dataframe\">\n  <thead>\n    <tr style=\"text-align: right;\">\n      <th></th>\n      <th>JOYREAD</th>\n      <th>METASPAM</th>\n      <th>ST165Q04IA</th>\n      <th>ST225Q06HA</th>\n      <th>METASUM</th>\n      <th>SCREADCOMP</th>\n      <th>INFOCAR</th>\n      <th>HOMESCH</th>\n      <th>ST160Q01IA</th>\n      <th>GCAWARE</th>\n      <th>...</th>\n      <th>ST150Q02IA</th>\n      <th>TEACHINT</th>\n      <th>IC150Q07HA</th>\n      <th>ST196Q04HA</th>\n      <th>ICTSCH</th>\n      <th>ST221Q05HA</th>\n      <th>ST196Q02HA</th>\n      <th>IC002Q01HA</th>\n      <th>ST196Q05HA</th>\n      <th>ST161Q06HA</th>\n    </tr>\n  </thead>\n  <tbody>\n    <tr>\n      <th>571621</th>\n      <td>-0.6996</td>\n      <td>-1.41</td>\n      <td>3.0</td>\n      <td>0.0</td>\n      <td>-0.18</td>\n      <td>-1.0985</td>\n      <td>2.2523</td>\n      <td>-2.2971</td>\n      <td>4.0</td>\n      <td>0.1316</td>\n      <td>...</td>\n      <td>2.0</td>\n      <td>-0.3449</td>\n      <td>1.0</td>\n      <td>4.0</td>\n      <td>10.0</td>\n      <td>1.0</td>\n      <td>4.0</td>\n      <td>4.0</td>\n      <td>4.0</td>\n      <td>2.0</td>\n    </tr>\n    <tr>\n      <th>568626</th>\n      <td>0.6380</td>\n      <td>0.42</td>\n      <td>4.0</td>\n      <td>1.0</td>\n      <td>1.36</td>\n      <td>0.1222</td>\n      <td>-0.6558</td>\n      <td>0.0303</td>\n      <td>2.0</td>\n      <td>-0.0549</td>\n      <td>...</td>\n      <td>4.0</td>\n      <td>-0.5905</td>\n      <td>1.0</td>\n      <td>3.0</td>\n      <td>4.0</td>\n      <td>1.0</td>\n      <td>3.0</td>\n      <td>2.0</td>\n      <td>4.0</td>\n      <td>2.0</td>\n    </tr>\n    <tr>\n      <th>572855</th>\n      <td>-2.7114</td>\n      <td>0.42</td>\n      <td>4.0</td>\n      <td>1.0</td>\n      <td>0.21</td>\n      <td>-2.4403</td>\n      <td>-1.0276</td>\n      <td>-2.2971</td>\n      <td>4.0</td>\n      <td>-0.0549</td>\n      <td>...</td>\n      <td>3.0</td>\n      <td>0.2182</td>\n      <td>1.0</td>\n      <td>3.0</td>\n      <td>6.0</td>\n      <td>2.0</td>\n      <td>3.0</td>\n      <td>2.0</td>\n      <td>3.0</td>\n      <td>4.0</td>\n    </tr>\n    <tr>\n      <th>573892</th>\n      <td>-0.9615</td>\n      <td>-1.41</td>\n      <td>1.0</td>\n      <td>0.0</td>\n      <td>-1.72</td>\n      <td>-1.4704</td>\n      <td>-1.0276</td>\n      <td>-0.9320</td>\n      <td>4.0</td>\n      <td>-1.2902</td>\n      <td>...</td>\n      <td>4.0</td>\n      <td>-0.6573</td>\n      <td>1.0</td>\n      <td>1.0</td>\n      <td>1.0</td>\n      <td>2.0</td>\n      <td>1.0</td>\n      <td>4.0</td>\n      <td>1.0</td>\n      <td>4.0</td>\n    </tr>\n    <tr>\n      <th>573109</th>\n      <td>1.4712</td>\n      <td>-0.04</td>\n      <td>4.0</td>\n      <td>1.0</td>\n      <td>-0.57</td>\n      <td>0.1222</td>\n      <td>-1.9096</td>\n      <td>0.4754</td>\n      <td>2.0</td>\n      <td>-3.4944</td>\n      <td>...</td>\n      <td>3.0</td>\n      <td>-1.0615</td>\n      <td>1.0</td>\n      <td>1.0</td>\n      <td>6.0</td>\n      <td>2.0</td>\n      <td>1.0</td>\n      <td>3.0</td>\n      <td>1.0</td>\n      <td>1.0</td>\n    </tr>\n  </tbody>\n</table>\n<p>5 rows × 100 columns</p>\n</div>"
     },
     "execution_count": 4,
     "metadata": {},
     "output_type": "execute_result"
    }
   ],
   "source": [
    "selected_column = mi_scores[:100].keys()\n",
    "X_train = X_train[selected_column]\n",
    "X_test = X_test[selected_column]\n",
    "\n",
    "X_train.head()"
   ],
   "metadata": {
    "collapsed": false,
    "ExecuteTime": {
     "end_time": "2024-05-28T20:28:39.579143Z",
     "start_time": "2024-05-28T20:28:39.561191Z"
    }
   },
   "execution_count": 4
  },
  {
   "cell_type": "code",
   "outputs": [
    {
     "name": "stdout",
     "output_type": "stream",
     "text": [
      "Fitting 5 folds for each of 27 candidates, totalling 135 fits\n"
     ]
    },
    {
     "ename": "KeyboardInterrupt",
     "evalue": "",
     "output_type": "error",
     "traceback": [
      "\u001B[0;31m---------------------------------------------------------------------------\u001B[0m",
      "\u001B[0;31mKeyboardInterrupt\u001B[0m                         Traceback (most recent call last)",
      "Cell \u001B[0;32mIn[5], line 17\u001B[0m\n\u001B[1;32m     14\u001B[0m svm_grid_search \u001B[38;5;241m=\u001B[39m GridSearchCV(SVC(), svm_param_grid, cv\u001B[38;5;241m=\u001B[39m\u001B[38;5;241m5\u001B[39m, verbose\u001B[38;5;241m=\u001B[39m\u001B[38;5;241m4\u001B[39m, n_jobs\u001B[38;5;241m=\u001B[39m\u001B[38;5;241m-\u001B[39m\u001B[38;5;241m1\u001B[39m)\n\u001B[1;32m     16\u001B[0m \u001B[38;5;66;03m# 執行網格搜索\u001B[39;00m\n\u001B[0;32m---> 17\u001B[0m \u001B[43msvm_grid_search\u001B[49m\u001B[38;5;241;43m.\u001B[39;49m\u001B[43mfit\u001B[49m\u001B[43m(\u001B[49m\u001B[43mX_train\u001B[49m\u001B[43m,\u001B[49m\u001B[43m \u001B[49m\u001B[43my_train\u001B[49m\u001B[43m)\u001B[49m\n\u001B[1;32m     19\u001B[0m \u001B[38;5;66;03m# 访问 cv_results_\u001B[39;00m\n\u001B[1;32m     20\u001B[0m cv_results \u001B[38;5;241m=\u001B[39m svm_grid_search\u001B[38;5;241m.\u001B[39mcv_results_\n",
      "File \u001B[0;32m~/Documents/projects/DataSciFinal/venv/lib/python3.9/site-packages/sklearn/base.py:1473\u001B[0m, in \u001B[0;36m_fit_context.<locals>.decorator.<locals>.wrapper\u001B[0;34m(estimator, *args, **kwargs)\u001B[0m\n\u001B[1;32m   1466\u001B[0m     estimator\u001B[38;5;241m.\u001B[39m_validate_params()\n\u001B[1;32m   1468\u001B[0m \u001B[38;5;28;01mwith\u001B[39;00m config_context(\n\u001B[1;32m   1469\u001B[0m     skip_parameter_validation\u001B[38;5;241m=\u001B[39m(\n\u001B[1;32m   1470\u001B[0m         prefer_skip_nested_validation \u001B[38;5;129;01mor\u001B[39;00m global_skip_validation\n\u001B[1;32m   1471\u001B[0m     )\n\u001B[1;32m   1472\u001B[0m ):\n\u001B[0;32m-> 1473\u001B[0m     \u001B[38;5;28;01mreturn\u001B[39;00m \u001B[43mfit_method\u001B[49m\u001B[43m(\u001B[49m\u001B[43mestimator\u001B[49m\u001B[43m,\u001B[49m\u001B[43m \u001B[49m\u001B[38;5;241;43m*\u001B[39;49m\u001B[43margs\u001B[49m\u001B[43m,\u001B[49m\u001B[43m \u001B[49m\u001B[38;5;241;43m*\u001B[39;49m\u001B[38;5;241;43m*\u001B[39;49m\u001B[43mkwargs\u001B[49m\u001B[43m)\u001B[49m\n",
      "File \u001B[0;32m~/Documents/projects/DataSciFinal/venv/lib/python3.9/site-packages/sklearn/model_selection/_search.py:968\u001B[0m, in \u001B[0;36mBaseSearchCV.fit\u001B[0;34m(self, X, y, **params)\u001B[0m\n\u001B[1;32m    962\u001B[0m     results \u001B[38;5;241m=\u001B[39m \u001B[38;5;28mself\u001B[39m\u001B[38;5;241m.\u001B[39m_format_results(\n\u001B[1;32m    963\u001B[0m         all_candidate_params, n_splits, all_out, all_more_results\n\u001B[1;32m    964\u001B[0m     )\n\u001B[1;32m    966\u001B[0m     \u001B[38;5;28;01mreturn\u001B[39;00m results\n\u001B[0;32m--> 968\u001B[0m \u001B[38;5;28;43mself\u001B[39;49m\u001B[38;5;241;43m.\u001B[39;49m\u001B[43m_run_search\u001B[49m\u001B[43m(\u001B[49m\u001B[43mevaluate_candidates\u001B[49m\u001B[43m)\u001B[49m\n\u001B[1;32m    970\u001B[0m \u001B[38;5;66;03m# multimetric is determined here because in the case of a callable\u001B[39;00m\n\u001B[1;32m    971\u001B[0m \u001B[38;5;66;03m# self.scoring the return type is only known after calling\u001B[39;00m\n\u001B[1;32m    972\u001B[0m first_test_score \u001B[38;5;241m=\u001B[39m all_out[\u001B[38;5;241m0\u001B[39m][\u001B[38;5;124m\"\u001B[39m\u001B[38;5;124mtest_scores\u001B[39m\u001B[38;5;124m\"\u001B[39m]\n",
      "File \u001B[0;32m~/Documents/projects/DataSciFinal/venv/lib/python3.9/site-packages/sklearn/model_selection/_search.py:1543\u001B[0m, in \u001B[0;36mGridSearchCV._run_search\u001B[0;34m(self, evaluate_candidates)\u001B[0m\n\u001B[1;32m   1541\u001B[0m \u001B[38;5;28;01mdef\u001B[39;00m \u001B[38;5;21m_run_search\u001B[39m(\u001B[38;5;28mself\u001B[39m, evaluate_candidates):\n\u001B[1;32m   1542\u001B[0m \u001B[38;5;250m    \u001B[39m\u001B[38;5;124;03m\"\"\"Search all candidates in param_grid\"\"\"\u001B[39;00m\n\u001B[0;32m-> 1543\u001B[0m     \u001B[43mevaluate_candidates\u001B[49m\u001B[43m(\u001B[49m\u001B[43mParameterGrid\u001B[49m\u001B[43m(\u001B[49m\u001B[38;5;28;43mself\u001B[39;49m\u001B[38;5;241;43m.\u001B[39;49m\u001B[43mparam_grid\u001B[49m\u001B[43m)\u001B[49m\u001B[43m)\u001B[49m\n",
      "File \u001B[0;32m~/Documents/projects/DataSciFinal/venv/lib/python3.9/site-packages/sklearn/model_selection/_search.py:914\u001B[0m, in \u001B[0;36mBaseSearchCV.fit.<locals>.evaluate_candidates\u001B[0;34m(candidate_params, cv, more_results)\u001B[0m\n\u001B[1;32m    906\u001B[0m \u001B[38;5;28;01mif\u001B[39;00m \u001B[38;5;28mself\u001B[39m\u001B[38;5;241m.\u001B[39mverbose \u001B[38;5;241m>\u001B[39m \u001B[38;5;241m0\u001B[39m:\n\u001B[1;32m    907\u001B[0m     \u001B[38;5;28mprint\u001B[39m(\n\u001B[1;32m    908\u001B[0m         \u001B[38;5;124m\"\u001B[39m\u001B[38;5;124mFitting \u001B[39m\u001B[38;5;132;01m{0}\u001B[39;00m\u001B[38;5;124m folds for each of \u001B[39m\u001B[38;5;132;01m{1}\u001B[39;00m\u001B[38;5;124m candidates,\u001B[39m\u001B[38;5;124m\"\u001B[39m\n\u001B[1;32m    909\u001B[0m         \u001B[38;5;124m\"\u001B[39m\u001B[38;5;124m totalling \u001B[39m\u001B[38;5;132;01m{2}\u001B[39;00m\u001B[38;5;124m fits\u001B[39m\u001B[38;5;124m\"\u001B[39m\u001B[38;5;241m.\u001B[39mformat(\n\u001B[1;32m    910\u001B[0m             n_splits, n_candidates, n_candidates \u001B[38;5;241m*\u001B[39m n_splits\n\u001B[1;32m    911\u001B[0m         )\n\u001B[1;32m    912\u001B[0m     )\n\u001B[0;32m--> 914\u001B[0m out \u001B[38;5;241m=\u001B[39m \u001B[43mparallel\u001B[49m\u001B[43m(\u001B[49m\n\u001B[1;32m    915\u001B[0m \u001B[43m    \u001B[49m\u001B[43mdelayed\u001B[49m\u001B[43m(\u001B[49m\u001B[43m_fit_and_score\u001B[49m\u001B[43m)\u001B[49m\u001B[43m(\u001B[49m\n\u001B[1;32m    916\u001B[0m \u001B[43m        \u001B[49m\u001B[43mclone\u001B[49m\u001B[43m(\u001B[49m\u001B[43mbase_estimator\u001B[49m\u001B[43m)\u001B[49m\u001B[43m,\u001B[49m\n\u001B[1;32m    917\u001B[0m \u001B[43m        \u001B[49m\u001B[43mX\u001B[49m\u001B[43m,\u001B[49m\n\u001B[1;32m    918\u001B[0m \u001B[43m        \u001B[49m\u001B[43my\u001B[49m\u001B[43m,\u001B[49m\n\u001B[1;32m    919\u001B[0m \u001B[43m        \u001B[49m\u001B[43mtrain\u001B[49m\u001B[38;5;241;43m=\u001B[39;49m\u001B[43mtrain\u001B[49m\u001B[43m,\u001B[49m\n\u001B[1;32m    920\u001B[0m \u001B[43m        \u001B[49m\u001B[43mtest\u001B[49m\u001B[38;5;241;43m=\u001B[39;49m\u001B[43mtest\u001B[49m\u001B[43m,\u001B[49m\n\u001B[1;32m    921\u001B[0m \u001B[43m        \u001B[49m\u001B[43mparameters\u001B[49m\u001B[38;5;241;43m=\u001B[39;49m\u001B[43mparameters\u001B[49m\u001B[43m,\u001B[49m\n\u001B[1;32m    922\u001B[0m \u001B[43m        \u001B[49m\u001B[43msplit_progress\u001B[49m\u001B[38;5;241;43m=\u001B[39;49m\u001B[43m(\u001B[49m\u001B[43msplit_idx\u001B[49m\u001B[43m,\u001B[49m\u001B[43m \u001B[49m\u001B[43mn_splits\u001B[49m\u001B[43m)\u001B[49m\u001B[43m,\u001B[49m\n\u001B[1;32m    923\u001B[0m \u001B[43m        \u001B[49m\u001B[43mcandidate_progress\u001B[49m\u001B[38;5;241;43m=\u001B[39;49m\u001B[43m(\u001B[49m\u001B[43mcand_idx\u001B[49m\u001B[43m,\u001B[49m\u001B[43m \u001B[49m\u001B[43mn_candidates\u001B[49m\u001B[43m)\u001B[49m\u001B[43m,\u001B[49m\n\u001B[1;32m    924\u001B[0m \u001B[43m        \u001B[49m\u001B[38;5;241;43m*\u001B[39;49m\u001B[38;5;241;43m*\u001B[39;49m\u001B[43mfit_and_score_kwargs\u001B[49m\u001B[43m,\u001B[49m\n\u001B[1;32m    925\u001B[0m \u001B[43m    \u001B[49m\u001B[43m)\u001B[49m\n\u001B[1;32m    926\u001B[0m \u001B[43m    \u001B[49m\u001B[38;5;28;43;01mfor\u001B[39;49;00m\u001B[43m \u001B[49m\u001B[43m(\u001B[49m\u001B[43mcand_idx\u001B[49m\u001B[43m,\u001B[49m\u001B[43m \u001B[49m\u001B[43mparameters\u001B[49m\u001B[43m)\u001B[49m\u001B[43m,\u001B[49m\u001B[43m \u001B[49m\u001B[43m(\u001B[49m\u001B[43msplit_idx\u001B[49m\u001B[43m,\u001B[49m\u001B[43m \u001B[49m\u001B[43m(\u001B[49m\u001B[43mtrain\u001B[49m\u001B[43m,\u001B[49m\u001B[43m \u001B[49m\u001B[43mtest\u001B[49m\u001B[43m)\u001B[49m\u001B[43m)\u001B[49m\u001B[43m \u001B[49m\u001B[38;5;129;43;01min\u001B[39;49;00m\u001B[43m \u001B[49m\u001B[43mproduct\u001B[49m\u001B[43m(\u001B[49m\n\u001B[1;32m    927\u001B[0m \u001B[43m        \u001B[49m\u001B[38;5;28;43menumerate\u001B[39;49m\u001B[43m(\u001B[49m\u001B[43mcandidate_params\u001B[49m\u001B[43m)\u001B[49m\u001B[43m,\u001B[49m\n\u001B[1;32m    928\u001B[0m \u001B[43m        \u001B[49m\u001B[38;5;28;43menumerate\u001B[39;49m\u001B[43m(\u001B[49m\u001B[43mcv\u001B[49m\u001B[38;5;241;43m.\u001B[39;49m\u001B[43msplit\u001B[49m\u001B[43m(\u001B[49m\u001B[43mX\u001B[49m\u001B[43m,\u001B[49m\u001B[43m \u001B[49m\u001B[43my\u001B[49m\u001B[43m,\u001B[49m\u001B[43m \u001B[49m\u001B[38;5;241;43m*\u001B[39;49m\u001B[38;5;241;43m*\u001B[39;49m\u001B[43mrouted_params\u001B[49m\u001B[38;5;241;43m.\u001B[39;49m\u001B[43msplitter\u001B[49m\u001B[38;5;241;43m.\u001B[39;49m\u001B[43msplit\u001B[49m\u001B[43m)\u001B[49m\u001B[43m)\u001B[49m\u001B[43m,\u001B[49m\n\u001B[1;32m    929\u001B[0m \u001B[43m    \u001B[49m\u001B[43m)\u001B[49m\n\u001B[1;32m    930\u001B[0m \u001B[43m\u001B[49m\u001B[43m)\u001B[49m\n\u001B[1;32m    932\u001B[0m \u001B[38;5;28;01mif\u001B[39;00m \u001B[38;5;28mlen\u001B[39m(out) \u001B[38;5;241m<\u001B[39m \u001B[38;5;241m1\u001B[39m:\n\u001B[1;32m    933\u001B[0m     \u001B[38;5;28;01mraise\u001B[39;00m \u001B[38;5;167;01mValueError\u001B[39;00m(\n\u001B[1;32m    934\u001B[0m         \u001B[38;5;124m\"\u001B[39m\u001B[38;5;124mNo fits were performed. \u001B[39m\u001B[38;5;124m\"\u001B[39m\n\u001B[1;32m    935\u001B[0m         \u001B[38;5;124m\"\u001B[39m\u001B[38;5;124mWas the CV iterator empty? \u001B[39m\u001B[38;5;124m\"\u001B[39m\n\u001B[1;32m    936\u001B[0m         \u001B[38;5;124m\"\u001B[39m\u001B[38;5;124mWere there no candidates?\u001B[39m\u001B[38;5;124m\"\u001B[39m\n\u001B[1;32m    937\u001B[0m     )\n",
      "File \u001B[0;32m~/Documents/projects/DataSciFinal/venv/lib/python3.9/site-packages/sklearn/utils/parallel.py:67\u001B[0m, in \u001B[0;36mParallel.__call__\u001B[0;34m(self, iterable)\u001B[0m\n\u001B[1;32m     62\u001B[0m config \u001B[38;5;241m=\u001B[39m get_config()\n\u001B[1;32m     63\u001B[0m iterable_with_config \u001B[38;5;241m=\u001B[39m (\n\u001B[1;32m     64\u001B[0m     (_with_config(delayed_func, config), args, kwargs)\n\u001B[1;32m     65\u001B[0m     \u001B[38;5;28;01mfor\u001B[39;00m delayed_func, args, kwargs \u001B[38;5;129;01min\u001B[39;00m iterable\n\u001B[1;32m     66\u001B[0m )\n\u001B[0;32m---> 67\u001B[0m \u001B[38;5;28;01mreturn\u001B[39;00m \u001B[38;5;28;43msuper\u001B[39;49m\u001B[43m(\u001B[49m\u001B[43m)\u001B[49m\u001B[38;5;241;43m.\u001B[39;49m\u001B[38;5;21;43m__call__\u001B[39;49m\u001B[43m(\u001B[49m\u001B[43miterable_with_config\u001B[49m\u001B[43m)\u001B[49m\n",
      "File \u001B[0;32m~/Documents/projects/DataSciFinal/venv/lib/python3.9/site-packages/joblib/parallel.py:2007\u001B[0m, in \u001B[0;36mParallel.__call__\u001B[0;34m(self, iterable)\u001B[0m\n\u001B[1;32m   2001\u001B[0m \u001B[38;5;66;03m# The first item from the output is blank, but it makes the interpreter\u001B[39;00m\n\u001B[1;32m   2002\u001B[0m \u001B[38;5;66;03m# progress until it enters the Try/Except block of the generator and\u001B[39;00m\n\u001B[1;32m   2003\u001B[0m \u001B[38;5;66;03m# reaches the first `yield` statement. This starts the asynchronous\u001B[39;00m\n\u001B[1;32m   2004\u001B[0m \u001B[38;5;66;03m# dispatch of the tasks to the workers.\u001B[39;00m\n\u001B[1;32m   2005\u001B[0m \u001B[38;5;28mnext\u001B[39m(output)\n\u001B[0;32m-> 2007\u001B[0m \u001B[38;5;28;01mreturn\u001B[39;00m output \u001B[38;5;28;01mif\u001B[39;00m \u001B[38;5;28mself\u001B[39m\u001B[38;5;241m.\u001B[39mreturn_generator \u001B[38;5;28;01melse\u001B[39;00m \u001B[38;5;28;43mlist\u001B[39;49m\u001B[43m(\u001B[49m\u001B[43moutput\u001B[49m\u001B[43m)\u001B[49m\n",
      "File \u001B[0;32m~/Documents/projects/DataSciFinal/venv/lib/python3.9/site-packages/joblib/parallel.py:1650\u001B[0m, in \u001B[0;36mParallel._get_outputs\u001B[0;34m(self, iterator, pre_dispatch)\u001B[0m\n\u001B[1;32m   1647\u001B[0m     \u001B[38;5;28;01myield\u001B[39;00m\n\u001B[1;32m   1649\u001B[0m     \u001B[38;5;28;01mwith\u001B[39;00m \u001B[38;5;28mself\u001B[39m\u001B[38;5;241m.\u001B[39m_backend\u001B[38;5;241m.\u001B[39mretrieval_context():\n\u001B[0;32m-> 1650\u001B[0m         \u001B[38;5;28;01myield from\u001B[39;00m \u001B[38;5;28mself\u001B[39m\u001B[38;5;241m.\u001B[39m_retrieve()\n\u001B[1;32m   1652\u001B[0m \u001B[38;5;28;01mexcept\u001B[39;00m \u001B[38;5;167;01mGeneratorExit\u001B[39;00m:\n\u001B[1;32m   1653\u001B[0m     \u001B[38;5;66;03m# The generator has been garbage collected before being fully\u001B[39;00m\n\u001B[1;32m   1654\u001B[0m     \u001B[38;5;66;03m# consumed. This aborts the remaining tasks if possible and warn\u001B[39;00m\n\u001B[1;32m   1655\u001B[0m     \u001B[38;5;66;03m# the user if necessary.\u001B[39;00m\n\u001B[1;32m   1656\u001B[0m     \u001B[38;5;28mself\u001B[39m\u001B[38;5;241m.\u001B[39m_exception \u001B[38;5;241m=\u001B[39m \u001B[38;5;28;01mTrue\u001B[39;00m\n",
      "File \u001B[0;32m~/Documents/projects/DataSciFinal/venv/lib/python3.9/site-packages/joblib/parallel.py:1762\u001B[0m, in \u001B[0;36mParallel._retrieve\u001B[0;34m(self)\u001B[0m\n\u001B[1;32m   1757\u001B[0m \u001B[38;5;66;03m# If the next job is not ready for retrieval yet, we just wait for\u001B[39;00m\n\u001B[1;32m   1758\u001B[0m \u001B[38;5;66;03m# async callbacks to progress.\u001B[39;00m\n\u001B[1;32m   1759\u001B[0m \u001B[38;5;28;01mif\u001B[39;00m ((\u001B[38;5;28mlen\u001B[39m(\u001B[38;5;28mself\u001B[39m\u001B[38;5;241m.\u001B[39m_jobs) \u001B[38;5;241m==\u001B[39m \u001B[38;5;241m0\u001B[39m) \u001B[38;5;129;01mor\u001B[39;00m\n\u001B[1;32m   1760\u001B[0m     (\u001B[38;5;28mself\u001B[39m\u001B[38;5;241m.\u001B[39m_jobs[\u001B[38;5;241m0\u001B[39m]\u001B[38;5;241m.\u001B[39mget_status(\n\u001B[1;32m   1761\u001B[0m         timeout\u001B[38;5;241m=\u001B[39m\u001B[38;5;28mself\u001B[39m\u001B[38;5;241m.\u001B[39mtimeout) \u001B[38;5;241m==\u001B[39m TASK_PENDING)):\n\u001B[0;32m-> 1762\u001B[0m     \u001B[43mtime\u001B[49m\u001B[38;5;241;43m.\u001B[39;49m\u001B[43msleep\u001B[49m\u001B[43m(\u001B[49m\u001B[38;5;241;43m0.01\u001B[39;49m\u001B[43m)\u001B[49m\n\u001B[1;32m   1763\u001B[0m     \u001B[38;5;28;01mcontinue\u001B[39;00m\n\u001B[1;32m   1765\u001B[0m \u001B[38;5;66;03m# We need to be careful: the job list can be filling up as\u001B[39;00m\n\u001B[1;32m   1766\u001B[0m \u001B[38;5;66;03m# we empty it and Python list are not thread-safe by\u001B[39;00m\n\u001B[1;32m   1767\u001B[0m \u001B[38;5;66;03m# default hence the use of the lock\u001B[39;00m\n",
      "\u001B[0;31mKeyboardInterrupt\u001B[0m: "
     ]
    }
   ],
   "source": [
    "from sklearn.model_selection import GridSearchCV\n",
    "from sklearn.svm import SVC\n",
    "from sklearn.preprocessing import StandardScaler\n",
    "from sklearn.pipeline import Pipeline\n",
    "\n",
    "# 設定參數網格\n",
    "svm_param_grid = {\n",
    "    'C': [0.1, 1, 10],\n",
    "    'kernel': ['linear', 'rbf', 'poly'],\n",
    "    'gamma': [0.1, 1, 10]\n",
    "}\n",
    "\n",
    "# 創建 GridSearchCV 物件\n",
    "svm_grid_search = GridSearchCV(SVC(), svm_param_grid, cv=5, verbose=4, n_jobs=-1)\n",
    "\n",
    "# 執行網格搜索\n",
    "svm_grid_search.fit(X_train, y_train)\n",
    "\n",
    "# 访问 cv_results_\n",
    "cv_results = svm_grid_search.cv_results_\n",
    "\n",
    "# 打印每折的验证结果\n",
    "for i in range(len(cv_results['params'])):\n",
    "    print(\"Params:\", cv_results['params'][i])\n",
    "    for j in range(5):  # 假设 cv=5\n",
    "        print(f\"Fold {j+1} score:\", cv_results[f'split{j}_test_score'][i])\n",
    "\n",
    "# 最佳參數和模型\n",
    "print(\"Best parameters:\", svm_grid_search.best_params_)\n",
    "print(\"Best cross-validation score: {:.2f}\".format(svm_grid_search.best_score_))\n",
    "\n",
    "# 使用最佳參數的模型對測試集進行預測\n",
    "best_model = svm_grid_search.best_estimator_\n",
    "test_score = best_model.score(X_test, y_test)\n",
    "print(\"Test set score: {:.2f}\".format(test_score))"
   ],
   "metadata": {
    "collapsed": false,
    "ExecuteTime": {
     "end_time": "2024-05-28T20:29:56.823981Z",
     "start_time": "2024-05-28T20:28:39.580084Z"
    }
   },
   "execution_count": 5
  },
  {
   "cell_type": "code",
   "outputs": [],
   "source": [
    "from sklearn.ensemble import RandomForestClassifier\n",
    "\n",
    "# 設定參數網格\n",
    "rf_param_grid = {\n",
    "    'n_estimators': [100, 200, 300],  # 決策樹的數量\n",
    "    'max_depth': [None, 10, 20, 30],  # 最大深度\n",
    "    'min_samples_split': [2, 5, 10],  # 每個節點至少包含的數據量，才能繼續分割\n",
    "    'min_samples_leaf': [1, 2, 4]    # 每個葉子最少的樣本數\n",
    "}\n",
    "\n",
    "# 創建 GridSearchCV 物件\n",
    "rf_grid_search = GridSearchCV(RandomForestClassifier(random_state=42), rf_param_grid, cv=5, verbose=2, n_jobs=-1)\n",
    "\n",
    "# 執行網格搜索\n",
    "rf_grid_search.fit(X_train, y_train)\n",
    "\n",
    "# 访问 cv_results_\n",
    "cv_results = rf_grid_search.cv_results_\n",
    "\n",
    "# 打印每折的验证结果\n",
    "for i in range(len(cv_results['params'])):\n",
    "    print(\"Params:\", cv_results['params'][i])\n",
    "    for j in range(5):  # 假设 cv=5\n",
    "        print(f\"Fold {j+1} score:\", cv_results[f'split{j}_test_score'][i])\n",
    "\n",
    "# 最佳參數和模型\n",
    "print(\"Best parameters:\", rf_grid_search.best_params_)\n",
    "print(\"Best cross-validation score: {:.2f}\".format(rf_grid_search.best_score_))\n",
    "\n",
    "# 使用最佳參數的模型對測試集進行預測\n",
    "rf_best_model = rf_grid_search.best_estimator_\n",
    "rf_test_score = rf_best_model.score(X_test, y_test)\n",
    "print(\"Test set score: {:.2f}\".format(rf_test_score))"
   ],
   "metadata": {
    "collapsed": false,
    "ExecuteTime": {
     "end_time": "2024-05-28T20:31:04.103115Z",
     "start_time": "2024-05-28T20:29:56.826081Z"
    }
   },
   "execution_count": null
  },
  {
   "cell_type": "code",
   "outputs": [],
   "source": [
    "import xgboost as xgb\n",
    "\n",
    "xgb_model = xgb.XGBClassifier(use_label_encoder=False, eval_metric='mlogloss')\n",
    "# 设置参数网格\n",
    "xg_param_grid = {\n",
    "    'n_estimators': [50, 100, 200],\n",
    "    'learning_rate': [0.01, 0.1, 0.2],\n",
    "    'max_depth': [3, 5, 7],\n",
    "    'min_child_weight': [1, 2, 3]\n",
    "}\n",
    "\n",
    "\n",
    "# 创建 GridSearchCV 对象\n",
    "xg_grid_search = GridSearchCV(xgb_model, xg_param_grid, cv=5, verbose=4, n_jobs=-1)\n",
    "\n",
    "# 执行网格搜索\n",
    "xg_grid_search.fit(X_train, y_train)\n",
    "\n",
    "# 访问 cv_results_\n",
    "cv_results = xg_grid_search.cv_results_\n",
    "\n",
    "# 打印每折的验证结果\n",
    "for i in range(len(cv_results['params'])):\n",
    "    print(\"Params:\", cv_results['params'][i])\n",
    "    for j in range(5):  # 假设 cv=5\n",
    "        print(f\"Fold {j+1} score:\", cv_results[f'split{j}_test_score'][i])\n",
    "\n",
    "# 最佳参数和模型\n",
    "print(\"Best parameters:\", xg_grid_search.best_params_)\n",
    "print(\"Best cross-validation score: {:.2f}\".format(xg_grid_search.best_score_))\n",
    "\n",
    "# 使用最佳参数的模型对测试集进行预测\n",
    "xgb_best_model = xg_grid_search.best_estimator_\n",
    "xgb_test_score = xgb_best_model.score(X_test, y_test)\n",
    "print(\"Test set score: {:.2f}\".format(xgb_test_score))"
   ],
   "metadata": {
    "collapsed": false,
    "ExecuteTime": {
     "end_time": "2024-05-28T20:31:17.413523Z",
     "start_time": "2024-05-28T20:31:04.104193Z"
    }
   },
   "execution_count": null
  },
  {
   "cell_type": "code",
   "outputs": [],
   "source": [
    "from sklearn.linear_model import LogisticRegression\n",
    "\n",
    "# 设置参数网格\n",
    "lg_param_grid = {\n",
    "    'C': [0.01, 0.1, 1, 10, 100],\n",
    "    'penalty':  ['l1', 'l2']\n",
    "}\n",
    "\n",
    "# 创建 GridSearchCV 对象\n",
    "lg_grid_search = GridSearchCV(LogisticRegression(solver='saga'), lg_param_grid, cv=5, verbose=2, n_jobs=-1)\n",
    "\n",
    "# 执行网格搜索\n",
    "lg_grid_search.fit(X_train, y_train)\n",
    "\n",
    "# 访问 cv_results_\n",
    "cv_results = lg_grid_search.cv_results_\n",
    "\n",
    "# 打印每折的验证结果\n",
    "for i in range(len(cv_results['params'])):\n",
    "    print(\"Params:\", cv_results['params'][i])\n",
    "    for j in range(5):  # 假设 cv=5\n",
    "        print(f\"Fold {j+1} score:\", cv_results[f'split{j}_test_score'][i])\n",
    "\n",
    "# 最佳参数和模型\n",
    "print(\"Best parameters:\", lg_grid_search.best_params_)\n",
    "print(\"Best cross-validation score: {:.2f}\".format(lg_grid_search.best_score_))\n",
    "\n",
    "# 使用最佳参数的模型对测试集进行预测\n",
    "lg_best_model = lg_grid_search.best_estimator_\n",
    "lg_test_score = lg_best_model.score(X_test, y_test)\n",
    "print(\"Test set score: {:.2f}\".format(lg_test_score))"
   ],
   "metadata": {
    "collapsed": false,
    "ExecuteTime": {
     "end_time": "2024-05-28T20:31:19.708585Z",
     "start_time": "2024-05-28T20:31:17.415307Z"
    }
   },
   "execution_count": null
  },
  {
   "cell_type": "code",
   "outputs": [],
   "source": [
    "import shap\n",
    "import xgboost as xgb\n",
    "from sklearn.model_selection import KFold\n",
    "# {'xgb__learning_rate': 0.1, 'xgb__max_depth': 5, 'xgb__min_child_weight': 3, 'xgb__n_estimators': 200}\n",
    "# classifier = xgb.XGBClassifier(n_estimators=200,min_child_weight=3,max_depth=5, learning_rate=0.1)\n",
    "xgb_best_model.score(X_test, y_test)"
   ],
   "metadata": {
    "collapsed": false,
    "ExecuteTime": {
     "end_time": "2024-05-29T02:58:53.936953Z",
     "start_time": "2024-05-29T02:58:53.929542Z"
    }
   },
   "execution_count": null
  },
  {
   "cell_type": "code",
   "outputs": [],
   "source": [
    "explainer = shap.Explainer(xgb_best_model)\n",
    "shap_values = explainer(X_test)"
   ],
   "metadata": {
    "collapsed": false,
    "ExecuteTime": {
     "end_time": "2024-05-29T02:58:55.026835Z",
     "start_time": "2024-05-29T02:58:54.962616Z"
    }
   },
   "execution_count": null
  },
  {
   "cell_type": "markdown",
   "source": [],
   "metadata": {
    "collapsed": false
   }
  },
  {
   "cell_type": "code",
   "outputs": [],
   "source": [
    "shap.plots.beeswarm(shap_values,max_display=20,order=shap_values.abs.max(0))"
   ],
   "metadata": {
    "collapsed": false,
    "ExecuteTime": {
     "end_time": "2024-05-28T20:27:15.719446Z",
     "start_time": "2024-05-28T20:27:15.717675Z"
    }
   },
   "execution_count": null
  },
  {
   "cell_type": "code",
   "outputs": [],
   "source": [],
   "metadata": {
    "collapsed": false
   }
  }
 ],
 "metadata": {
  "kernelspec": {
   "display_name": "Python 3",
   "language": "python",
   "name": "python3"
  },
  "language_info": {
   "codemirror_mode": {
    "name": "ipython",
    "version": 3
   },
   "file_extension": ".py",
   "mimetype": "text/x-python",
   "name": "python",
   "nbconvert_exporter": "python",
   "pygments_lexer": "ipython3",
   "version": "3.10.11"
  }
 },
 "nbformat": 4,
 "nbformat_minor": 2
}
