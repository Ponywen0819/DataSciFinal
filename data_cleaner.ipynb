{
 "cells": [
  {
   "cell_type": "code",
   "execution_count": 29,
   "metadata": {
    "ExecuteTime": {
     "end_time": "2024-05-28T17:17:30.977734Z",
     "start_time": "2024-05-28T17:17:29.793303Z"
    }
   },
   "outputs": [
    {
     "name": "stdout",
     "output_type": "stream",
     "text": [
      "Requirement already satisfied: pyreadstat in ./.venv/lib/python3.9/site-packages (1.2.7)\r\n",
      "Requirement already satisfied: pyarrow in ./.venv/lib/python3.9/site-packages (16.1.0)\r\n",
      "Requirement already satisfied: pandas>=1.2.0 in ./.venv/lib/python3.9/site-packages (from pyreadstat) (2.2.2)\r\n",
      "Requirement already satisfied: numpy>=1.16.6 in ./.venv/lib/python3.9/site-packages (from pyarrow) (1.26.4)\r\n",
      "Requirement already satisfied: python-dateutil>=2.8.2 in ./.venv/lib/python3.9/site-packages (from pandas>=1.2.0->pyreadstat) (2.9.0.post0)\r\n",
      "Requirement already satisfied: pytz>=2020.1 in ./.venv/lib/python3.9/site-packages (from pandas>=1.2.0->pyreadstat) (2024.1)\r\n",
      "Requirement already satisfied: tzdata>=2022.7 in ./.venv/lib/python3.9/site-packages (from pandas>=1.2.0->pyreadstat) (2024.1)\r\n",
      "Requirement already satisfied: six>=1.5 in ./.venv/lib/python3.9/site-packages (from python-dateutil>=2.8.2->pandas>=1.2.0->pyreadstat) (1.16.0)\r\n",
      "\r\n",
      "\u001B[1m[\u001B[0m\u001B[34;49mnotice\u001B[0m\u001B[1;39;49m]\u001B[0m\u001B[39;49m A new release of pip is available: \u001B[0m\u001B[31;49m23.2.1\u001B[0m\u001B[39;49m -> \u001B[0m\u001B[32;49m24.0\u001B[0m\r\n",
      "\u001B[1m[\u001B[0m\u001B[34;49mnotice\u001B[0m\u001B[1;39;49m]\u001B[0m\u001B[39;49m To update, run: \u001B[0m\u001B[32;49mpip install --upgrade pip\u001B[0m\r\n"
     ]
    }
   ],
   "source": [
    "! pip install pyreadstat pyarrow"
   ]
  },
  {
   "cell_type": "code",
   "execution_count": 30,
   "metadata": {
    "ExecuteTime": {
     "end_time": "2024-05-28T17:17:35.563379Z",
     "start_time": "2024-05-28T17:17:30.982619Z"
    }
   },
   "outputs": [
    {
     "name": "stdout",
     "output_type": "stream",
     "text": [
      "   CNTRYID  CNT  CNTSCHID  CNTSTUID   CYC  NatCen  STRATUM SUBNATIO  OECD  \\\n",
      "0      8.0  ALB  800002.0  800251.0  07MS  000800  ALB0109  0080000   0.0   \n",
      "1      8.0  ALB  800002.0  800402.0  07MS  000800  ALB0109  0080000   0.0   \n",
      "2      8.0  ALB  800002.0  801902.0  07MS  000800  ALB0109  0080000   0.0   \n",
      "3      8.0  ALB  800002.0  803546.0  07MS  000800  ALB0109  0080000   0.0   \n",
      "4      8.0  ALB  800002.0  804776.0  07MS  000800  ALB0109  0080000   0.0   \n",
      "\n",
      "   ADMINMODE  ...  PV4RTML  PV5RTML  PV6RTML  PV7RTML  PV8RTML  PV9RTML  \\\n",
      "0        2.0  ...  303.127  362.862  370.634  376.306  343.337  339.973   \n",
      "1        2.0  ...  412.093  410.709  437.901  430.188  403.804  457.625   \n",
      "2        2.0  ...  258.384  337.295  248.659  291.314  326.906  311.582   \n",
      "3        2.0  ...  422.430  452.831  452.842  441.359  463.541  440.298   \n",
      "4        2.0  ...  399.215  319.882  350.976  334.622  378.287  369.191   \n",
      "\n",
      "   PV10RTML    SENWT             VER_DAT  test  \n",
      "0   323.844  2.41652    09MAY19:11:20:53   NaN  \n",
      "1   391.290  2.41652    09MAY19:11:20:53   NaN  \n",
      "2   284.867  1.69989    09MAY19:11:20:53   NaN  \n",
      "3   447.464  2.41652    09MAY19:11:20:53   NaN  \n",
      "4   315.529  2.41652    09MAY19:11:20:53   NaN  \n",
      "\n",
      "[5 rows x 1119 columns]\n"
     ]
    }
   ],
   "source": [
    "import pandas as pd\n",
    "import pyreadstat\n",
    "\n",
    "# 指定 SPSS 檔案的路徑\n",
    "file_path = r'STU_CY07_MSU_STU_QQQ.feather'\n",
    "\n",
    "# 使用 pyreadstat 讀取 SPSS 檔案\n",
    "df = pd.read_feather(file_path)\n",
    "\n",
    "# 顯示前幾行資料\n",
    "print(df.head())"
   ]
  },
  {
   "cell_type": "code",
   "execution_count": 31,
   "metadata": {
    "ExecuteTime": {
     "end_time": "2024-05-28T17:17:36.737035Z",
     "start_time": "2024-05-28T17:17:35.564431Z"
    }
   },
   "outputs": [
    {
     "name": "stdout",
     "output_type": "stream",
     "text": [
      "count    7243.000000\n",
      "mean      527.786388\n",
      "std        99.324069\n",
      "min        66.409000\n",
      "25%       460.766000\n",
      "50%       532.247000\n",
      "75%       598.024500\n",
      "max       839.183000\n",
      "Name: PV7MATH, dtype: float64\n"
     ]
    }
   ],
   "source": [
    "# 問卷篩選出df中的CNT等於TAP\n",
    "Taiwan_QQQ = df[df['CNT']=='TAP']\n",
    "# 找出問卷中column名稱為'PV1MATH'的資料\n",
    "print(Taiwan_QQQ.describe()['PV7MATH'])"
   ]
  },
  {
   "cell_type": "code",
   "execution_count": 32,
   "metadata": {
    "ExecuteTime": {
     "end_time": "2024-05-28T17:17:36.891486Z",
     "start_time": "2024-05-28T17:17:36.738915Z"
    }
   },
   "outputs": [
    {
     "name": "stdout",
     "output_type": "stream",
     "text": [
      "<class 'pandas.core.frame.DataFrame'>\n",
      "Index: 7243 entries, 567762 to 575004\n",
      "Columns: 1119 entries, CNTRYID to test\n",
      "dtypes: float64(1103), object(16)\n",
      "memory usage: 61.9+ MB\n"
     ]
    }
   ],
   "source": [
    "Taiwan_QQQ.info()\n",
    "# 只留下float64的資料  \n",
    "Taiwan_QQQ = Taiwan_QQQ.select_dtypes(include=['float64'])\n",
    "# 去除標準差為0的資料\n",
    "Taiwan_QQQ = Taiwan_QQQ.loc[:, Taiwan_QQQ.std() != 0]\n",
    "# 將Mathematics PV1MATH 到 PV10MATH 的資料取平均新增一個欄位為Math_score\n",
    "Taiwan_QQQ['Math_score'] = Taiwan_QQQ.loc[:, 'PV1MATH':'PV10MATH'].mean(axis=1)\n",
    "# 將Science PV1SCIE 到 PV10SCIE 的資料取平均新增一個欄位為Science_score\n",
    "Taiwan_QQQ['Science_score'] = Taiwan_QQQ.loc[:, 'PV1SCIE':'PV10SCIE'].mean(axis=1)\n",
    "# 將Reading PV1READ 到 PV10READ 的資料取平均新增一個欄位為Reading_score\n",
    "Taiwan_QQQ['Reading_score'] = Taiwan_QQQ.loc[:, 'PV1READ':'PV10READ'].mean(axis=1)\n",
    "# 去除不必要的欄位\n",
    "Taiwan_QQQ = Taiwan_QQQ.drop(['PV1MATH', 'PV2MATH', 'PV3MATH', 'PV4MATH', 'PV5MATH', 'PV6MATH', 'PV7MATH', 'PV8MATH', 'PV9MATH', 'PV10MATH', 'PV1SCIE', 'PV2SCIE', 'PV3SCIE', 'PV4SCIE', 'PV5SCIE', 'PV6SCIE', 'PV7SCIE', 'PV8SCIE', 'PV9SCIE', 'PV10SCIE', 'PV1READ', 'PV2READ', 'PV3READ', 'PV4READ', 'PV5READ', 'PV6READ', 'PV7READ', 'PV8READ', 'PV9READ', 'PV10READ'], axis=1)\n",
    "# 去除不必要的欄位 PV1GLCM 到 PV10GLCM、PV1RCLI 到 PV10RCLI、PV1RCUN 到 PV10RCUN、PV1RCER 到 PV10RCER、PV1RTSN 到 PV10RTSN、PV1RTML 到 PV10RTML\n",
    "Taiwan_QQQ = Taiwan_QQQ.drop(['PV1GLCM', 'PV2GLCM', 'PV3GLCM', 'PV4GLCM', 'PV5GLCM', 'PV6GLCM', 'PV7GLCM', 'PV8GLCM', 'PV9GLCM', 'PV10GLCM', 'PV1RCLI', 'PV2RCLI', 'PV3RCLI', 'PV4RCLI', 'PV5RCLI', 'PV6RCLI', 'PV7RCLI', 'PV8RCLI', 'PV9RCLI', 'PV10RCLI', 'PV1RCUN', 'PV2RCUN', 'PV3RCUN', 'PV4RCUN', 'PV5RCUN', 'PV6RCUN', 'PV7RCUN', 'PV8RCUN', 'PV9RCUN', 'PV10RCUN', 'PV1RCER', 'PV2RCER', 'PV3RCER', 'PV4RCER', 'PV5RCER', 'PV6RCER', 'PV7RCER', 'PV8RCER', 'PV9RCER', 'PV10RCER', 'PV1RTSN', 'PV2RTSN', 'PV3RTSN', 'PV4RTSN', 'PV5RTSN', 'PV6RTSN', 'PV7RTSN', 'PV8RTSN', 'PV9RTSN', 'PV10RTSN', 'PV1RTML', 'PV2RTML', 'PV3RTML', 'PV4RTML', 'PV5RTML', 'PV6RTML', 'PV7RTML', 'PV8RTML', 'PV9RTML', 'PV10RTML'], axis=1)\n"
   ]
  },
  {
   "cell_type": "code",
   "execution_count": 33,
   "metadata": {
    "ExecuteTime": {
     "end_time": "2024-05-28T17:17:36.904914Z",
     "start_time": "2024-05-28T17:17:36.892524Z"
    }
   },
   "outputs": [],
   "source": [
    "Taiwan_QQQ = Taiwan_QQQ.drop(['CNTSCHID','CNTSTUID','BOOKID'], axis=1)\n"
   ]
  },
  {
   "cell_type": "code",
   "execution_count": 34,
   "metadata": {
    "ExecuteTime": {
     "end_time": "2024-05-28T17:17:36.944218Z",
     "start_time": "2024-05-28T17:17:36.906100Z"
    }
   },
   "outputs": [],
   "source": [
    "# 去除 W_FSTUWT\n",
    "Taiwan_QQQ = Taiwan_QQQ.drop(['W_FSTUWT'], axis=1)\n",
    "# 用表達式去除 W_FSTURWT1 到 W_FSTURWT80\n",
    "Taiwan_QQQ = Taiwan_QQQ[Taiwan_QQQ.columns.drop(list(Taiwan_QQQ.filter(regex='W_FSTURWT')))]\n",
    "# 去除 UNIT、WVARSTRR、SENWT\n",
    "Taiwan_QQQ = Taiwan_QQQ.drop(['UNIT', 'WVARSTRR', 'SENWT'], axis=1)"
   ]
  },
  {
   "cell_type": "code",
   "execution_count": 35,
   "metadata": {
    "ExecuteTime": {
     "end_time": "2024-05-28T17:17:36.980265Z",
     "start_time": "2024-05-28T17:17:36.945782Z"
    }
   },
   "outputs": [
    {
     "data": {
      "text/plain": "EC155Q01DA       362\nEC154Q02IA       362\nIC010Q07TA       360\nICTOUTSIDE       359\nIC014Q06NA       359\n                ... \nAGE                0\nGRADE              0\nST003D02T          0\nST004D01T          0\nReading_score      0\nLength: 517, dtype: int64"
     },
     "execution_count": 35,
     "metadata": {},
     "output_type": "execute_result"
    }
   ],
   "source": [
    "# 超過總筆數的 5% 的資料缺失的話，就將該欄位刪除\n",
    "Taiwan_QQQ = Taiwan_QQQ.dropna(thresh=len(Taiwan_QQQ)*0.95, axis=1)\n",
    "missing_values = Taiwan_QQQ.isnull().sum()\n",
    "missing_values.sort_values(ascending=False)\n"
   ]
  },
  {
   "cell_type": "code",
   "execution_count": 36,
   "metadata": {
    "ExecuteTime": {
     "end_time": "2024-05-28T17:17:37.169960Z",
     "start_time": "2024-05-28T17:17:36.981346Z"
    }
   },
   "outputs": [
    {
     "data": {
      "text/plain": "ST001D01T        0\nST003D02T        0\nST004D01T        0\nST005Q01TA       0\nST006Q01TA       0\n                ..\nINFOJOB1         0\nINFOJOB2         0\nMath_score       0\nScience_score    0\nReading_score    0\nLength: 517, dtype: int64"
     },
     "execution_count": 36,
     "metadata": {},
     "output_type": "execute_result"
    }
   ],
   "source": [
    "# 用中位數填補缺失值\n",
    "Taiwan_QQQ = Taiwan_QQQ.fillna(Taiwan_QQQ.median())\n",
    "missing_values = Taiwan_QQQ.isnull().sum()\n",
    "missing_values.sort_values(ascending=False)\n",
    "missing_values"
   ]
  },
  {
   "cell_type": "code",
   "execution_count": 37,
   "metadata": {
    "ExecuteTime": {
     "end_time": "2024-05-28T17:17:37.364842Z",
     "start_time": "2024-05-28T17:17:37.170983Z"
    }
   },
   "outputs": [
    {
     "name": "stdout",
     "output_type": "stream",
     "text": [
      "['ST006Q01TA', 'ST011Q01TA', 'ST011Q06TA', 'ST011Q12TA', 'ST019AQ01T', 'ST019CQ01T', 'ST127Q01TA', 'ST127Q02TA', 'ST127Q03TA', 'ST062Q01TA', 'ST038Q05NA', 'ST038Q07NA', 'IC001Q04TA', 'EC032Q01TA', 'EC033Q01NA', 'IMMIG', 'REPEAT']\n"
     ]
    }
   ],
   "source": [
    "from sklearn.feature_selection import VarianceThreshold\n",
    "import numpy as np\n",
    "# 設定門檻，要刪除幾%的資料\n",
    "threshold = 0.9\n",
    "quasi_constant_feature = [] #用來記錄的list\n",
    "\n",
    "for i in Taiwan_QQQ.columns: #每個特徵依序看\n",
    "    \n",
    "    # 計算比率\n",
    "    predominant = (Taiwan_QQQ[i].value_counts() /\n",
    "    np.float64(len(Taiwan_QQQ))).sort_values(ascending=False).values[0]\n",
    "    \n",
    "    # 假如大於門檻 加入 list\n",
    "    if predominant >= threshold:\n",
    "        quasi_constant_feature.append(i)\n",
    "\n",
    "print(quasi_constant_feature)"
   ]
  },
  {
   "cell_type": "code",
   "execution_count": 38,
   "metadata": {
    "ExecuteTime": {
     "end_time": "2024-05-28T17:17:37.406509Z",
     "start_time": "2024-05-28T17:17:37.367201Z"
    }
   },
   "outputs": [
    {
     "data": {
      "text/plain": "        ST001D01T  ST003D02T  ST004D01T  ST005Q01TA  ST006Q02TA  ST006Q03TA  \\\n567762       10.0        8.0        2.0         1.0         2.0         2.0   \n567763       10.0        4.0        1.0         2.0         2.0         2.0   \n567764       10.0        8.0        2.0         1.0         2.0         1.0   \n567765       10.0        7.0        1.0         3.0         2.0         2.0   \n567766       10.0        2.0        1.0         2.0         2.0         1.0   \n...           ...        ...        ...         ...         ...         ...   \n575000       10.0        7.0        2.0         2.0         2.0         1.0   \n575001       10.0        6.0        2.0         2.0         2.0         1.0   \n575002       10.0        3.0        2.0         1.0         2.0         2.0   \n575003       10.0        3.0        2.0         1.0         2.0         1.0   \n575004       10.0        6.0        2.0         1.0         2.0         2.0   \n\n        ST007Q01TA  ST008Q03TA  ST011Q02TA  ST011Q03TA  ...  AUTICT  SOIAICT  \\\n567762         2.0         2.0         1.0         1.0  ... -1.1563  -0.7345   \n567763         2.0         2.0         1.0         1.0  ...  0.9302   0.7595   \n567764         1.0         1.0         1.0         1.0  ...  2.0258   0.0056   \n567765         2.0         1.0         1.0         1.0  ...  0.0979   1.1777   \n567766         3.0         2.0         1.0         1.0  ...  2.0258   0.5149   \n...            ...         ...         ...         ...  ...     ...      ...   \n575000         2.0         1.0         1.0         2.0  ...  2.0258   1.0146   \n575001         1.0         2.0         1.0         1.0  ...  2.0258   0.5149   \n575002         1.0         2.0         1.0         1.0  ...  0.0979   0.1051   \n575003         2.0         1.0         1.0         1.0  ...  0.0979   0.5149   \n575004         1.0         2.0         2.0         2.0  ... -0.7891  -0.7345   \n\n        ICTCLASS  ICTOUTSIDE  INFOCAR  INFOJOB1  INFOJOB2  Math_score  \\\n567762    1.0418      1.1397   2.2523    1.9988   -1.4728    457.4164   \n567763   -0.6098     -1.3048   0.8502    0.6261   -0.5045    479.3667   \n567764   -1.2188     -1.3048  -0.0787    1.9988   -1.4728    514.1154   \n567765   -1.2188     -1.3048   0.5132    0.4595   -1.4728    485.6888   \n567766   -1.2188     -1.3048  -1.3322   -0.9778    1.4601    450.6410   \n...          ...         ...      ...       ...       ...         ...   \n575000   -1.2188      1.1322   0.2123   -0.9778    1.4601    529.7499   \n575001   -1.2188      0.2858   0.4986    0.1940    0.5132    446.0228   \n575002   -1.2188     -1.3048   2.2523    1.0053   -1.4803    512.6372   \n575003   -1.2188     -1.3048   1.3312   -0.9778   -1.4728    345.9518   \n575004    2.4394      2.4969   0.7669   -0.9778    1.4601    379.5331   \n\n        Science_score  Reading_score  \n567762       346.4664       350.7617  \n567763       477.2560       513.6965  \n567764       483.1836       464.3948  \n567765       498.2705       504.5347  \n567766       465.8515       465.9621  \n...               ...            ...  \n575000       411.3110       391.3444  \n575001       418.9520       398.1433  \n575002       449.0055       398.1080  \n575003       371.4060       308.6729  \n575004       358.4185       284.9204  \n\n[7243 rows x 500 columns]",
      "text/html": "<div>\n<style scoped>\n    .dataframe tbody tr th:only-of-type {\n        vertical-align: middle;\n    }\n\n    .dataframe tbody tr th {\n        vertical-align: top;\n    }\n\n    .dataframe thead th {\n        text-align: right;\n    }\n</style>\n<table border=\"1\" class=\"dataframe\">\n  <thead>\n    <tr style=\"text-align: right;\">\n      <th></th>\n      <th>ST001D01T</th>\n      <th>ST003D02T</th>\n      <th>ST004D01T</th>\n      <th>ST005Q01TA</th>\n      <th>ST006Q02TA</th>\n      <th>ST006Q03TA</th>\n      <th>ST007Q01TA</th>\n      <th>ST008Q03TA</th>\n      <th>ST011Q02TA</th>\n      <th>ST011Q03TA</th>\n      <th>...</th>\n      <th>AUTICT</th>\n      <th>SOIAICT</th>\n      <th>ICTCLASS</th>\n      <th>ICTOUTSIDE</th>\n      <th>INFOCAR</th>\n      <th>INFOJOB1</th>\n      <th>INFOJOB2</th>\n      <th>Math_score</th>\n      <th>Science_score</th>\n      <th>Reading_score</th>\n    </tr>\n  </thead>\n  <tbody>\n    <tr>\n      <th>567762</th>\n      <td>10.0</td>\n      <td>8.0</td>\n      <td>2.0</td>\n      <td>1.0</td>\n      <td>2.0</td>\n      <td>2.0</td>\n      <td>2.0</td>\n      <td>2.0</td>\n      <td>1.0</td>\n      <td>1.0</td>\n      <td>...</td>\n      <td>-1.1563</td>\n      <td>-0.7345</td>\n      <td>1.0418</td>\n      <td>1.1397</td>\n      <td>2.2523</td>\n      <td>1.9988</td>\n      <td>-1.4728</td>\n      <td>457.4164</td>\n      <td>346.4664</td>\n      <td>350.7617</td>\n    </tr>\n    <tr>\n      <th>567763</th>\n      <td>10.0</td>\n      <td>4.0</td>\n      <td>1.0</td>\n      <td>2.0</td>\n      <td>2.0</td>\n      <td>2.0</td>\n      <td>2.0</td>\n      <td>2.0</td>\n      <td>1.0</td>\n      <td>1.0</td>\n      <td>...</td>\n      <td>0.9302</td>\n      <td>0.7595</td>\n      <td>-0.6098</td>\n      <td>-1.3048</td>\n      <td>0.8502</td>\n      <td>0.6261</td>\n      <td>-0.5045</td>\n      <td>479.3667</td>\n      <td>477.2560</td>\n      <td>513.6965</td>\n    </tr>\n    <tr>\n      <th>567764</th>\n      <td>10.0</td>\n      <td>8.0</td>\n      <td>2.0</td>\n      <td>1.0</td>\n      <td>2.0</td>\n      <td>1.0</td>\n      <td>1.0</td>\n      <td>1.0</td>\n      <td>1.0</td>\n      <td>1.0</td>\n      <td>...</td>\n      <td>2.0258</td>\n      <td>0.0056</td>\n      <td>-1.2188</td>\n      <td>-1.3048</td>\n      <td>-0.0787</td>\n      <td>1.9988</td>\n      <td>-1.4728</td>\n      <td>514.1154</td>\n      <td>483.1836</td>\n      <td>464.3948</td>\n    </tr>\n    <tr>\n      <th>567765</th>\n      <td>10.0</td>\n      <td>7.0</td>\n      <td>1.0</td>\n      <td>3.0</td>\n      <td>2.0</td>\n      <td>2.0</td>\n      <td>2.0</td>\n      <td>1.0</td>\n      <td>1.0</td>\n      <td>1.0</td>\n      <td>...</td>\n      <td>0.0979</td>\n      <td>1.1777</td>\n      <td>-1.2188</td>\n      <td>-1.3048</td>\n      <td>0.5132</td>\n      <td>0.4595</td>\n      <td>-1.4728</td>\n      <td>485.6888</td>\n      <td>498.2705</td>\n      <td>504.5347</td>\n    </tr>\n    <tr>\n      <th>567766</th>\n      <td>10.0</td>\n      <td>2.0</td>\n      <td>1.0</td>\n      <td>2.0</td>\n      <td>2.0</td>\n      <td>1.0</td>\n      <td>3.0</td>\n      <td>2.0</td>\n      <td>1.0</td>\n      <td>1.0</td>\n      <td>...</td>\n      <td>2.0258</td>\n      <td>0.5149</td>\n      <td>-1.2188</td>\n      <td>-1.3048</td>\n      <td>-1.3322</td>\n      <td>-0.9778</td>\n      <td>1.4601</td>\n      <td>450.6410</td>\n      <td>465.8515</td>\n      <td>465.9621</td>\n    </tr>\n    <tr>\n      <th>...</th>\n      <td>...</td>\n      <td>...</td>\n      <td>...</td>\n      <td>...</td>\n      <td>...</td>\n      <td>...</td>\n      <td>...</td>\n      <td>...</td>\n      <td>...</td>\n      <td>...</td>\n      <td>...</td>\n      <td>...</td>\n      <td>...</td>\n      <td>...</td>\n      <td>...</td>\n      <td>...</td>\n      <td>...</td>\n      <td>...</td>\n      <td>...</td>\n      <td>...</td>\n      <td>...</td>\n    </tr>\n    <tr>\n      <th>575000</th>\n      <td>10.0</td>\n      <td>7.0</td>\n      <td>2.0</td>\n      <td>2.0</td>\n      <td>2.0</td>\n      <td>1.0</td>\n      <td>2.0</td>\n      <td>1.0</td>\n      <td>1.0</td>\n      <td>2.0</td>\n      <td>...</td>\n      <td>2.0258</td>\n      <td>1.0146</td>\n      <td>-1.2188</td>\n      <td>1.1322</td>\n      <td>0.2123</td>\n      <td>-0.9778</td>\n      <td>1.4601</td>\n      <td>529.7499</td>\n      <td>411.3110</td>\n      <td>391.3444</td>\n    </tr>\n    <tr>\n      <th>575001</th>\n      <td>10.0</td>\n      <td>6.0</td>\n      <td>2.0</td>\n      <td>2.0</td>\n      <td>2.0</td>\n      <td>1.0</td>\n      <td>1.0</td>\n      <td>2.0</td>\n      <td>1.0</td>\n      <td>1.0</td>\n      <td>...</td>\n      <td>2.0258</td>\n      <td>0.5149</td>\n      <td>-1.2188</td>\n      <td>0.2858</td>\n      <td>0.4986</td>\n      <td>0.1940</td>\n      <td>0.5132</td>\n      <td>446.0228</td>\n      <td>418.9520</td>\n      <td>398.1433</td>\n    </tr>\n    <tr>\n      <th>575002</th>\n      <td>10.0</td>\n      <td>3.0</td>\n      <td>2.0</td>\n      <td>1.0</td>\n      <td>2.0</td>\n      <td>2.0</td>\n      <td>1.0</td>\n      <td>2.0</td>\n      <td>1.0</td>\n      <td>1.0</td>\n      <td>...</td>\n      <td>0.0979</td>\n      <td>0.1051</td>\n      <td>-1.2188</td>\n      <td>-1.3048</td>\n      <td>2.2523</td>\n      <td>1.0053</td>\n      <td>-1.4803</td>\n      <td>512.6372</td>\n      <td>449.0055</td>\n      <td>398.1080</td>\n    </tr>\n    <tr>\n      <th>575003</th>\n      <td>10.0</td>\n      <td>3.0</td>\n      <td>2.0</td>\n      <td>1.0</td>\n      <td>2.0</td>\n      <td>1.0</td>\n      <td>2.0</td>\n      <td>1.0</td>\n      <td>1.0</td>\n      <td>1.0</td>\n      <td>...</td>\n      <td>0.0979</td>\n      <td>0.5149</td>\n      <td>-1.2188</td>\n      <td>-1.3048</td>\n      <td>1.3312</td>\n      <td>-0.9778</td>\n      <td>-1.4728</td>\n      <td>345.9518</td>\n      <td>371.4060</td>\n      <td>308.6729</td>\n    </tr>\n    <tr>\n      <th>575004</th>\n      <td>10.0</td>\n      <td>6.0</td>\n      <td>2.0</td>\n      <td>1.0</td>\n      <td>2.0</td>\n      <td>2.0</td>\n      <td>1.0</td>\n      <td>2.0</td>\n      <td>2.0</td>\n      <td>2.0</td>\n      <td>...</td>\n      <td>-0.7891</td>\n      <td>-0.7345</td>\n      <td>2.4394</td>\n      <td>2.4969</td>\n      <td>0.7669</td>\n      <td>-0.9778</td>\n      <td>1.4601</td>\n      <td>379.5331</td>\n      <td>358.4185</td>\n      <td>284.9204</td>\n    </tr>\n  </tbody>\n</table>\n<p>7243 rows × 500 columns</p>\n</div>"
     },
     "execution_count": 38,
     "metadata": {},
     "output_type": "execute_result"
    }
   ],
   "source": [
    "# 刪除低變異數的特徵\n",
    "Taiwan_QQQ = Taiwan_QQQ.drop(quasi_constant_feature, axis=1)\n",
    "Taiwan_QQQ"
   ]
  },
  {
   "cell_type": "code",
   "outputs": [
    {
     "name": "stdout",
     "output_type": "stream",
     "text": [
      "       Math_level\n",
      "567762          0\n",
      "567763          0\n",
      "567764          0\n",
      "567765          0\n",
      "567766          0\n"
     ]
    },
    {
     "name": "stderr",
     "output_type": "stream",
     "text": [
      "/var/folders/tn/ns07k4k912s9m2xh_vhqdnwh0000gn/T/ipykernel_1211/3996944788.py:13: PerformanceWarning: DataFrame is highly fragmented.  This is usually the result of calling `frame.insert` many times, which has poor performance.  Consider joining all columns at once using pd.concat(axis=1) instead. To get a de-fragmented frame, use `newframe = frame.copy()`\n",
      "  Taiwan_QQQ['Math_level'] = pd.cut(Taiwan_QQQ['Math_score'], bins=[-np.inf, mean, np.inf],\n"
     ]
    }
   ],
   "source": [
    "# 依照四分位距將數學成績分為四個等級，並新增欄位Math_level\n",
    "# Taiwan_QQQ['Math_level'] = pd.qcut(Taiwan_QQQ['Math_score'], q=4, labels=['D', 'C', 'B', 'A'])\n",
    "# Taiwan_QQQ.drop(['Math_score','Science_score','Reading_score'], axis=1, inplace=True)\n",
    "\n",
    "import pandas as pd\n",
    "import numpy as np\n",
    "\n",
    "# 假設 df 是你的 DataFrame，value_column 是要分割的列名\n",
    "mean = Taiwan_QQQ['Math_score'].mean()\n",
    "std = Taiwan_QQQ['Math_score'].std()\n",
    "\n",
    "# 按照高斯分布的分位數創建一個新列 'category'\n",
    "Taiwan_QQQ['Math_level'] = pd.cut(Taiwan_QQQ['Math_score'], bins=[-np.inf, mean, np.inf], \n",
    "                        labels=[ 0,1])\n",
    "\n",
    "Taiwan_QQQ.drop(['Math_score','Science_score','Reading_score'], axis=1, inplace=True)\n",
    "# 查看結果\n",
    "print(Taiwan_QQQ[['Math_level']].head())"
   ],
   "metadata": {
    "ExecuteTime": {
     "end_time": "2024-05-28T17:17:37.437482Z",
     "start_time": "2024-05-28T17:17:37.407627Z"
    }
   },
   "execution_count": 39
  },
  {
   "cell_type": "code",
   "outputs": [],
   "source": [
    "Taiwan_QQQ.to_feather('Cleaned.feather')"
   ],
   "metadata": {
    "ExecuteTime": {
     "end_time": "2024-05-28T17:17:37.495373Z",
     "start_time": "2024-05-28T17:17:37.438702Z"
    }
   },
   "execution_count": 40
  }
 ],
 "metadata": {
  "kernelspec": {
   "display_name": "Python 3",
   "language": "python",
   "name": "python3"
  },
  "language_info": {
   "codemirror_mode": {
    "name": "ipython",
    "version": 3
   },
   "file_extension": ".py",
   "mimetype": "text/x-python",
   "name": "python",
   "nbconvert_exporter": "python",
   "pygments_lexer": "ipython3",
   "version": "3.10.11"
  }
 },
 "nbformat": 4,
 "nbformat_minor": 2
}
