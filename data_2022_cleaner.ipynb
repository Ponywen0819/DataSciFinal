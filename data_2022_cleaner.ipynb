{
 "cells": [
  {
   "cell_type": "code",
   "execution_count": 46,
   "id": "initial_id",
   "metadata": {
    "collapsed": true,
    "ExecuteTime": {
     "end_time": "2024-05-30T13:23:48.523745Z",
     "start_time": "2024-05-30T13:23:46.949731Z"
    }
   },
   "outputs": [
    {
     "name": "stdout",
     "output_type": "stream",
     "text": [
      "Requirement already satisfied: pandas in ./.venv/lib/python3.9/site-packages (2.2.2)\r\n",
      "Requirement already satisfied: pyreadstat in ./.venv/lib/python3.9/site-packages (1.2.7)\r\n",
      "Requirement already satisfied: pyarrow in ./.venv/lib/python3.9/site-packages (16.1.0)\r\n",
      "Requirement already satisfied: numpy>=1.22.4 in ./.venv/lib/python3.9/site-packages (from pandas) (1.26.4)\r\n",
      "Requirement already satisfied: python-dateutil>=2.8.2 in ./.venv/lib/python3.9/site-packages (from pandas) (2.9.0.post0)\r\n",
      "Requirement already satisfied: pytz>=2020.1 in ./.venv/lib/python3.9/site-packages (from pandas) (2024.1)\r\n",
      "Requirement already satisfied: tzdata>=2022.7 in ./.venv/lib/python3.9/site-packages (from pandas) (2024.1)\r\n",
      "Requirement already satisfied: six>=1.5 in ./.venv/lib/python3.9/site-packages (from python-dateutil>=2.8.2->pandas) (1.16.0)\r\n",
      "\r\n",
      "\u001B[1m[\u001B[0m\u001B[34;49mnotice\u001B[0m\u001B[1;39;49m]\u001B[0m\u001B[39;49m A new release of pip is available: \u001B[0m\u001B[31;49m23.2.1\u001B[0m\u001B[39;49m -> \u001B[0m\u001B[32;49m24.0\u001B[0m\r\n",
      "\u001B[1m[\u001B[0m\u001B[34;49mnotice\u001B[0m\u001B[1;39;49m]\u001B[0m\u001B[39;49m To update, run: \u001B[0m\u001B[32;49mpip install --upgrade pip\u001B[0m\r\n"
     ]
    }
   ],
   "source": [
    "!pip install pandas pyreadstat pyarrow"
   ]
  },
  {
   "cell_type": "code",
   "outputs": [
    {
     "name": "stdout",
     "output_type": "stream",
     "text": [
      "   CNT  CNTRYID  CNTSCHID  CNTSTUID   CYC  NatCen STRATUM SUBNATIO  REGION  \\\n",
      "0  ALB      8.0  800282.0  800001.0  08MS  000800   ALB03  0080000   800.0   \n",
      "1  ALB      8.0  800115.0  800002.0  08MS  000800   ALB03  0080000   800.0   \n",
      "2  ALB      8.0  800242.0  800003.0  08MS  000800   ALB01  0080000   800.0   \n",
      "3  ALB      8.0  800245.0  800005.0  08MS  000800   ALB08  0080000   800.0   \n",
      "4  ALB      8.0  800285.0  800006.0  08MS  000800   ALB03  0080000   800.0   \n",
      "\n",
      "   OECD  ...  PV4MPRE  PV5MPRE  PV6MPRE  PV7MPRE  PV8MPRE  PV9MPRE  PV10MPRE  \\\n",
      "0   0.0  ...  203.029  219.817  331.017  223.752  305.671  230.156   289.436   \n",
      "1   0.0  ...  321.405  320.452  284.836  364.565  304.044  347.626   352.269   \n",
      "2   0.0  ...  376.019  285.901  289.896  338.469  316.296  324.361   343.351   \n",
      "3   0.0  ...  303.422  327.793  165.575  246.156  238.322  275.860   227.466   \n",
      "4   0.0  ...  514.739  539.850  461.793  514.465  510.462  490.537   503.793   \n",
      "\n",
      "     SENWT             VER_DAT  test  \n",
      "0  0.55561    03MAY23:10:11:25   NaN  \n",
      "1  0.76431    03MAY23:10:11:25   NaN  \n",
      "2  1.37877    03MAY23:10:11:25   NaN  \n",
      "3  1.49361    03MAY23:10:11:26   NaN  \n",
      "4  0.65249    03MAY23:10:11:26   NaN  \n",
      "\n",
      "[5 rows x 1279 columns]\n"
     ]
    }
   ],
   "source": [
    "import pandas as pd\n",
    "import pyreadstat\n",
    "\n",
    "# 指定 SPSS 檔案的路徑\n",
    "file_path = r'CY08MSP_STU_QQQ.feather'\n",
    "\n",
    "# 使用 pyreadstat 讀取 SPSS 檔案\n",
    "df = pd.read_feather(file_path)\n",
    "\n",
    "# 顯示前幾行資料\n",
    "print(df.head())"
   ],
   "metadata": {
    "collapsed": false,
    "ExecuteTime": {
     "end_time": "2024-05-30T13:23:58.283480Z",
     "start_time": "2024-05-30T13:23:48.525810Z"
    }
   },
   "id": "5c7b840b92c1298",
   "execution_count": 47
  },
  {
   "cell_type": "code",
   "outputs": [
    {
     "name": "stdout",
     "output_type": "stream",
     "text": [
      "count    5857.000000\n",
      "mean      533.625699\n",
      "std       111.602100\n",
      "min       158.369000\n",
      "25%       456.347000\n",
      "50%       538.775000\n",
      "75%       613.640000\n",
      "max       928.840000\n",
      "Name: PV7MATH, dtype: float64\n"
     ]
    }
   ],
   "source": [
    "# 問卷篩選出df中的CNT等於TAP\n",
    "Taiwan_QQQ = df[df['CNT'] == 'TAP']\n",
    "# 找出問卷中column名稱為'PV1MATH'的資料\n",
    "print(Taiwan_QQQ.describe()['PV7MATH'])"
   ],
   "metadata": {
    "collapsed": false,
    "ExecuteTime": {
     "end_time": "2024-05-30T13:23:59.860601Z",
     "start_time": "2024-05-30T13:23:58.285854Z"
    }
   },
   "id": "37e16641e506659f",
   "execution_count": 48
  },
  {
   "cell_type": "code",
   "outputs": [
    {
     "name": "stdout",
     "output_type": "stream",
     "text": [
      "<class 'pandas.core.frame.DataFrame'>\n",
      "Index: 5857 entries, 111155 to 117011\n",
      "Columns: 1279 entries, CNT to test\n",
      "dtypes: float64(1261), object(18)\n",
      "memory usage: 57.2+ MB\n"
     ]
    }
   ],
   "source": [
    "Taiwan_QQQ.info()\n",
    "# 只留下float64的資料  \n",
    "Taiwan_QQQ = Taiwan_QQQ.select_dtypes(include=['float64'])\n",
    "\n",
    "# 將Mathematics PV1MATH 到 PV10MATH 的資料取平均新增一個欄位為Math_score\n",
    "Taiwan_QQQ['Math_score'] = Taiwan_QQQ.loc[:, 'PV1MATH':'PV10MATH'].mean(axis=1)\n",
    "\n",
    "# 將Science PV1SCIE 到 PV10SCIE 的資料取平均新增一個欄位為Science_score\n",
    "Taiwan_QQQ['Science_score'] = Taiwan_QQQ.loc[:, 'PV1SCIE':'PV10SCIE'].mean(axis=1)\n",
    "# 將Reading PV1READ 到 PV10READ 的資料取平均新增一個欄位為Reading_score\n",
    "Taiwan_QQQ['Reading_score'] = Taiwan_QQQ.loc[:, 'PV1READ':'PV10READ'].mean(axis=1)\n",
    "\n",
    "# 將 PV1MCCR 到 PV10MCCR 的資料取平均新增一個欄位為MCCR_score\n",
    "Taiwan_QQQ['MCCR_score'] = Taiwan_QQQ.loc[:, 'PV1MCCR':'PV10MCCR'].mean(axis=1)\n",
    "\n",
    "# 將 PV1MCQN 到 PV10MCQN 的資料取平均新增一個欄位為MCQN_score\n",
    "Taiwan_QQQ['MCQN_score'] = Taiwan_QQQ.loc[:, 'PV1MCQN':'PV10MCQN'].mean(axis=1)\n",
    "\n",
    "# 將 PV1MCSS 到 PV10MCSS 的資料取平均新增一個欄位為MCSS_score\n",
    "Taiwan_QQQ['MCSS_score'] = Taiwan_QQQ.loc[:, 'PV1MCSS':'PV10MCSS'].mean(axis=1)\n",
    "\n",
    "# 將 PV1MCUD 到 PV10MCUD 的資料取平均新增一個欄位為MCUD_score\n",
    "Taiwan_QQQ['MCUD_score'] = Taiwan_QQQ.loc[:, 'PV1MCUD':'PV10MCUD'].mean(axis=1)\n",
    "\n",
    "# 將 PV1MPEM 到 PV10MPEM 的資料取平均新增一個欄位為MPEM_score\n",
    "Taiwan_QQQ['MPEM_score'] = Taiwan_QQQ.loc[:, 'PV1MPEM':'PV10MPEM'].mean(axis=1)\n",
    "\n",
    "# 將 PV1MPFS 到 PV10MPFS 的資料取平均新增一個欄位為MPFS_score\n",
    "Taiwan_QQQ['MPFS_score'] = Taiwan_QQQ.loc[:, 'PV1MPFS':'PV10MPFS'].mean(axis=1)\n",
    "\n",
    "# 將 PV1MPIN 到 PV10MPIN 的資料取平均新增一個欄位為MPIN_score\n",
    "Taiwan_QQQ['MPIN_score'] = Taiwan_QQQ.loc[:, 'PV1MPIN':'PV10MPIN'].mean(axis=1)\n",
    "\n",
    "# 將 PV1MPRE 到 PV10MPRE 的資料取平均新增一個欄位為MPRE_score\n",
    "Taiwan_QQQ['MPRE_score'] = Taiwan_QQQ.loc[:, 'PV1MPRE':'PV10MPRE'].mean(axis=1)\n",
    "\n",
    "\n",
    "# 去除不必要的欄位"
   ],
   "metadata": {
    "collapsed": false,
    "ExecuteTime": {
     "end_time": "2024-05-30T13:23:59.922150Z",
     "start_time": "2024-05-30T13:23:59.862745Z"
    }
   },
   "id": "c0b7be56d5507375",
   "execution_count": 49
  },
  {
   "cell_type": "code",
   "outputs": [],
   "source": [
    "# 去除分數的欄位\n",
    "Taiwan_QQQ = Taiwan_QQQ.drop(\n",
    "    ['PV1MATH', 'PV2MATH', 'PV3MATH', 'PV4MATH', 'PV5MATH', 'PV6MATH', 'PV7MATH', 'PV8MATH', 'PV9MATH', 'PV10MATH',\n",
    "     'PV1SCIE', 'PV2SCIE', 'PV3SCIE', 'PV4SCIE', 'PV5SCIE', 'PV6SCIE', 'PV7SCIE', 'PV8SCIE', 'PV9SCIE', 'PV10SCIE',\n",
    "     'PV1READ', 'PV2READ', 'PV3READ', 'PV4READ', 'PV5READ', 'PV6READ', 'PV7READ', 'PV8READ', 'PV9READ', 'PV10READ',\n",
    "     'PV1MCCR', 'PV2MCCR', 'PV3MCCR', 'PV4MCCR', 'PV5MCCR', 'PV6MCCR', 'PV7MCCR', 'PV8MCCR', 'PV9MCCR', 'PV10MCCR',\n",
    "     'PV1MCQN', 'PV2MCQN', 'PV3MCQN', 'PV4MCQN', 'PV5MCQN', 'PV6MCQN', 'PV7MCQN', 'PV8MCQN', 'PV9MCQN', 'PV10MCQN',\n",
    "     'PV1MCSS', 'PV2MCSS', 'PV3MCSS', 'PV4MCSS', 'PV5MCSS', 'PV6MCSS', 'PV7MCSS', 'PV8MCSS', 'PV9MCSS', 'PV10MCSS',\n",
    "     'PV1MCUD', 'PV2MCUD', 'PV3MCUD', 'PV4MCUD', 'PV5MCUD', 'PV6MCUD', 'PV7MCUD', 'PV8MCUD', 'PV9MCUD', 'PV10MCUD',\n",
    "     'PV1MPEM', 'PV2MPEM', 'PV3MPEM', 'PV4MPEM', 'PV5MPEM', 'PV6MPEM', 'PV7MPEM', 'PV8MPEM', 'PV9MPEM', 'PV10MPEM',\n",
    "     'PV1MPFS', 'PV2MPFS', 'PV3MPFS', 'PV4MPFS', 'PV5MPFS', 'PV6MPFS', 'PV7MPFS', 'PV8MPFS', 'PV9MPFS', 'PV10MPFS',\n",
    "     'PV1MPIN', 'PV2MPIN', 'PV3MPIN', 'PV4MPIN', 'PV5MPIN', 'PV6MPIN', 'PV7MPIN', 'PV8MPIN', 'PV9MPIN', 'PV10MPIN',\n",
    "     'PV1MPRE', 'PV2MPRE', 'PV3MPRE', 'PV4MPRE', 'PV5MPRE', 'PV6MPRE', 'PV7MPRE', 'PV8MPRE', 'PV9MPRE', 'PV10MPRE'\n",
    "     ],\n",
    "    axis=1)"
   ],
   "metadata": {
    "collapsed": false,
    "ExecuteTime": {
     "end_time": "2024-05-30T13:23:59.941058Z",
     "start_time": "2024-05-30T13:23:59.923280Z"
    }
   },
   "id": "f5ce8576f9bad686",
   "execution_count": 50
  },
  {
   "cell_type": "code",
   "outputs": [],
   "source": [
    "# 去除國家權重\n",
    "Taiwan_QQQ = Taiwan_QQQ.drop(['SENWT'], axis=1)"
   ],
   "metadata": {
    "collapsed": false,
    "ExecuteTime": {
     "end_time": "2024-05-30T13:23:59.960391Z",
     "start_time": "2024-05-30T13:23:59.942545Z"
    }
   },
   "id": "e989d2fde301afc3",
   "execution_count": 51
  },
  {
   "cell_type": "code",
   "outputs": [],
   "source": [
    "Taiwan_QQQ = Taiwan_QQQ.drop(['W_FSTUWT'], axis=1)"
   ],
   "metadata": {
    "collapsed": false,
    "ExecuteTime": {
     "end_time": "2024-05-30T13:23:59.976676Z",
     "start_time": "2024-05-30T13:23:59.961653Z"
    }
   },
   "id": "24b33f79105c6040",
   "execution_count": 52
  },
  {
   "cell_type": "code",
   "outputs": [],
   "source": [
    "Taiwan_QQQ = Taiwan_QQQ.drop([f'W_FSTURWT{i}' for i in range(1, 81)], axis=1)"
   ],
   "metadata": {
    "collapsed": false,
    "ExecuteTime": {
     "end_time": "2024-05-30T13:24:00.005683Z",
     "start_time": "2024-05-30T13:23:59.977986Z"
    }
   },
   "id": "b1eb80dc163d659f",
   "execution_count": 53
  },
  {
   "cell_type": "code",
   "outputs": [],
   "source": [
    "Taiwan_QQQ = Taiwan_QQQ.drop(\n",
    "    ['CNTSCHID', 'CNTSTUID', 'LANGTEST_PAQ', 'BOOKID', 'Option_CT',\n",
    "     'Option_FL', 'UNIT', 'WVARSTRR', 'CNTRYID', 'REGION', 'OECD', 'ADMINMODE', 'LANGTEST_QQQ', 'LANGTEST_COG',\n",
    "     'Option_ICTQ', 'Option_ICTQ', 'Option_WBQ', 'Option_PQ', 'Option_TQ', 'Option_UH'],\n",
    "    axis=1)"
   ],
   "metadata": {
    "collapsed": false,
    "ExecuteTime": {
     "end_time": "2024-05-30T13:24:00.022102Z",
     "start_time": "2024-05-30T13:24:00.007183Z"
    }
   },
   "id": "50959c91beb534fe",
   "execution_count": 54
  },
  {
   "cell_type": "code",
   "outputs": [
    {
     "data": {
      "text/plain": "EXPECEDU      280\nICTEFFIC      279\nST260Q03JA    274\nICTSUBJ       267\nIC177Q04JA    257\n             ... \nAGE             0\nST003D02T       0\nST004D01T       0\nST003D03T       0\nMPRE_score      0\nLength: 288, dtype: int64"
     },
     "execution_count": 55,
     "metadata": {},
     "output_type": "execute_result"
    }
   ],
   "source": [
    "# 超過總筆數的 5% 的資料缺失的話，就將該欄位刪除\n",
    "Taiwan_QQQ = Taiwan_QQQ.dropna(thresh=len(Taiwan_QQQ) * 0.95, axis=1)\n",
    "missing_values = Taiwan_QQQ.isnull().sum()\n",
    "missing_values.sort_values(ascending=False)\n"
   ],
   "metadata": {
    "collapsed": false,
    "ExecuteTime": {
     "end_time": "2024-05-30T13:24:00.051373Z",
     "start_time": "2024-05-30T13:24:00.024694Z"
    }
   },
   "id": "10906d7fb11b9b96",
   "execution_count": 55
  },
  {
   "cell_type": "code",
   "outputs": [
    {
     "data": {
      "text/plain": "ST001D01T     0\nST003D02T     0\nST003D03T     0\nST004D01T     0\nST250Q01JA    0\n             ..\nMCUD_score    0\nMPEM_score    0\nMPFS_score    0\nMPIN_score    0\nMPRE_score    0\nLength: 288, dtype: int64"
     },
     "execution_count": 56,
     "metadata": {},
     "output_type": "execute_result"
    }
   ],
   "source": [
    "# 用中位數填補缺失值\n",
    "Taiwan_QQQ = Taiwan_QQQ.fillna(Taiwan_QQQ.median())\n",
    "missing_values = Taiwan_QQQ.isnull().sum()\n",
    "missing_values.sort_values(ascending=False)\n",
    "missing_values"
   ],
   "metadata": {
    "collapsed": false,
    "ExecuteTime": {
     "end_time": "2024-05-30T13:24:00.199265Z",
     "start_time": "2024-05-30T13:24:00.052818Z"
    }
   },
   "id": "e9f7d87bb1f7f918",
   "execution_count": 56
  },
  {
   "cell_type": "code",
   "outputs": [
    {
     "name": "stdout",
     "output_type": "stream",
     "text": [
      "['ST003D03T', 'ST250Q04JA', 'ST019AQ01T', 'ST019CQ01T', 'ST127Q01TA', 'ST127Q02TA', 'ST127Q03TA', 'ST260Q01JA', 'ST260Q02JA', 'ST260Q03JA', 'ST062Q01TA', 'ST062Q02TA', 'ST038Q03NA', 'ST038Q05NA', 'ST038Q07NA', 'ST038Q08NA', 'ST038Q09JA', 'ST038Q10JA', 'ST038Q11JA', 'ST266Q01JA', 'ST266Q02JA', 'ST266Q03JA', 'ST266Q04JA', 'ST266Q05JA', 'ST294Q04JA', 'ST295Q01JA', 'ST297Q01JA', 'ST297Q03JA', 'ST297Q05JA', 'ST347Q02JA', 'IMMIG', 'REPEAT', 'MISSSC', 'MATHEASE', 'MATHMOT', 'ICTHOME', 'ICTAVHOM']\n"
     ]
    }
   ],
   "source": [
    "from sklearn.feature_selection import VarianceThreshold\n",
    "import numpy as np\n",
    "\n",
    "# 設定門檻，要刪除幾%的資料\n",
    "threshold = 0.9\n",
    "quasi_constant_feature = []  #用來記錄的list\n",
    "\n",
    "for i in Taiwan_QQQ.columns:  #每個特徵依序看\n",
    "\n",
    "    # 計算比率\n",
    "    predominant = (Taiwan_QQQ[i].value_counts() /\n",
    "                   np.float64(len(Taiwan_QQQ))).sort_values(ascending=False).values[0]\n",
    "\n",
    "    # 假如大於門檻 加入 list\n",
    "    if predominant >= threshold:\n",
    "        quasi_constant_feature.append(i)\n",
    "\n",
    "print(quasi_constant_feature)"
   ],
   "metadata": {
    "collapsed": false,
    "ExecuteTime": {
     "end_time": "2024-05-30T13:24:00.287350Z",
     "start_time": "2024-05-30T13:24:00.200588Z"
    }
   },
   "id": "308269d72fc042f",
   "execution_count": 57
  },
  {
   "cell_type": "code",
   "outputs": [
    {
     "data": {
      "text/plain": "        ST001D01T  ST003D02T  ST004D01T  ST250Q01JA  ST250Q02JA  ST250Q03JA  \\\n111155        9.0       10.0        1.0         1.0         1.0         1.0   \n111156       10.0        6.0        1.0         2.0         1.0         1.0   \n111157       10.0        3.0        2.0         1.0         1.0         1.0   \n111158       10.0        3.0        1.0         1.0         2.0         2.0   \n111159       10.0        4.0        2.0         2.0         1.0         1.0   \n...           ...        ...        ...         ...         ...         ...   \n117007       10.0        3.0        2.0         1.0         1.0         1.0   \n117008       10.0        1.0        2.0         1.0         2.0         2.0   \n117009        9.0       12.0        2.0         2.0         1.0         1.0   \n117010       10.0        3.0        1.0         1.0         1.0         1.0   \n117011       10.0        8.0        1.0         1.0         1.0         1.0   \n\n        ST250Q05JA  ST251Q01JA  ST251Q02JA  ST251Q03JA  ...  Science_score  \\\n111155         2.0         3.0         3.0         1.0  ...       532.9300   \n111156         1.0         2.0         3.0         2.0  ...       506.2942   \n111157         2.0         1.0         2.0         3.0  ...       646.2069   \n111158         1.0         1.0         1.0         1.0  ...       367.5244   \n111159         1.0         2.0         4.0         3.0  ...       509.8032   \n...            ...         ...         ...         ...  ...            ...   \n117007         1.0         2.0         2.0         1.0  ...       594.7836   \n117008         1.0         2.0         3.0         3.0  ...       475.6030   \n117009         2.0         2.0         3.0         1.0  ...       589.8292   \n117010         1.0         4.0         4.0         4.0  ...       586.2202   \n117011         1.0         2.0         3.0         3.0  ...       570.6131   \n\n        Reading_score  MCCR_score  MCQN_score  MCSS_score  MCUD_score  \\\n111155       546.3877    567.4887    582.4041    555.0647    556.9153   \n111156       560.4321    536.8495    578.2138    576.7185    555.7239   \n111157       650.7925    678.8159    733.7847    720.6881    703.0225   \n111158       453.1688    378.9017    407.0545    474.6111    418.6725   \n111159       551.8421    580.6639    596.6756    585.2936    583.2789   \n...               ...         ...         ...         ...         ...   \n117007       576.5285    602.2600    592.2986    578.6207    609.3909   \n117008       532.5477    525.1763    534.6003    564.8438    544.3440   \n117009       541.1986    539.5075    577.3314    584.8321    556.0226   \n117010       512.8787    526.6018    569.3770    571.2576    571.6544   \n117011       559.7079    626.2401    539.2027    563.6279    596.4192   \n\n        MPEM_score  MPFS_score  MPIN_score  MPRE_score  \n111155    556.9614    555.5655    571.3713    614.5495  \n111156    621.5013    551.9805    589.7321    569.0942  \n111157    745.3378    699.3620    707.6447    723.1284  \n111158    399.5022    397.9351    405.7414    438.2599  \n111159    571.0235    566.2138    595.1984    553.8403  \n...            ...         ...         ...         ...  \n117007    611.6502    607.4982    578.3984    567.6166  \n117008    501.1020    520.5181    514.6167    528.9199  \n117009    602.0464    578.3022    575.5695    553.3003  \n117010    557.7442    491.6458    587.0444    557.1557  \n117011    546.0893    618.5003    592.5850    591.7506  \n\n[5857 rows x 251 columns]",
      "text/html": "<div>\n<style scoped>\n    .dataframe tbody tr th:only-of-type {\n        vertical-align: middle;\n    }\n\n    .dataframe tbody tr th {\n        vertical-align: top;\n    }\n\n    .dataframe thead th {\n        text-align: right;\n    }\n</style>\n<table border=\"1\" class=\"dataframe\">\n  <thead>\n    <tr style=\"text-align: right;\">\n      <th></th>\n      <th>ST001D01T</th>\n      <th>ST003D02T</th>\n      <th>ST004D01T</th>\n      <th>ST250Q01JA</th>\n      <th>ST250Q02JA</th>\n      <th>ST250Q03JA</th>\n      <th>ST250Q05JA</th>\n      <th>ST251Q01JA</th>\n      <th>ST251Q02JA</th>\n      <th>ST251Q03JA</th>\n      <th>...</th>\n      <th>Science_score</th>\n      <th>Reading_score</th>\n      <th>MCCR_score</th>\n      <th>MCQN_score</th>\n      <th>MCSS_score</th>\n      <th>MCUD_score</th>\n      <th>MPEM_score</th>\n      <th>MPFS_score</th>\n      <th>MPIN_score</th>\n      <th>MPRE_score</th>\n    </tr>\n  </thead>\n  <tbody>\n    <tr>\n      <th>111155</th>\n      <td>9.0</td>\n      <td>10.0</td>\n      <td>1.0</td>\n      <td>1.0</td>\n      <td>1.0</td>\n      <td>1.0</td>\n      <td>2.0</td>\n      <td>3.0</td>\n      <td>3.0</td>\n      <td>1.0</td>\n      <td>...</td>\n      <td>532.9300</td>\n      <td>546.3877</td>\n      <td>567.4887</td>\n      <td>582.4041</td>\n      <td>555.0647</td>\n      <td>556.9153</td>\n      <td>556.9614</td>\n      <td>555.5655</td>\n      <td>571.3713</td>\n      <td>614.5495</td>\n    </tr>\n    <tr>\n      <th>111156</th>\n      <td>10.0</td>\n      <td>6.0</td>\n      <td>1.0</td>\n      <td>2.0</td>\n      <td>1.0</td>\n      <td>1.0</td>\n      <td>1.0</td>\n      <td>2.0</td>\n      <td>3.0</td>\n      <td>2.0</td>\n      <td>...</td>\n      <td>506.2942</td>\n      <td>560.4321</td>\n      <td>536.8495</td>\n      <td>578.2138</td>\n      <td>576.7185</td>\n      <td>555.7239</td>\n      <td>621.5013</td>\n      <td>551.9805</td>\n      <td>589.7321</td>\n      <td>569.0942</td>\n    </tr>\n    <tr>\n      <th>111157</th>\n      <td>10.0</td>\n      <td>3.0</td>\n      <td>2.0</td>\n      <td>1.0</td>\n      <td>1.0</td>\n      <td>1.0</td>\n      <td>2.0</td>\n      <td>1.0</td>\n      <td>2.0</td>\n      <td>3.0</td>\n      <td>...</td>\n      <td>646.2069</td>\n      <td>650.7925</td>\n      <td>678.8159</td>\n      <td>733.7847</td>\n      <td>720.6881</td>\n      <td>703.0225</td>\n      <td>745.3378</td>\n      <td>699.3620</td>\n      <td>707.6447</td>\n      <td>723.1284</td>\n    </tr>\n    <tr>\n      <th>111158</th>\n      <td>10.0</td>\n      <td>3.0</td>\n      <td>1.0</td>\n      <td>1.0</td>\n      <td>2.0</td>\n      <td>2.0</td>\n      <td>1.0</td>\n      <td>1.0</td>\n      <td>1.0</td>\n      <td>1.0</td>\n      <td>...</td>\n      <td>367.5244</td>\n      <td>453.1688</td>\n      <td>378.9017</td>\n      <td>407.0545</td>\n      <td>474.6111</td>\n      <td>418.6725</td>\n      <td>399.5022</td>\n      <td>397.9351</td>\n      <td>405.7414</td>\n      <td>438.2599</td>\n    </tr>\n    <tr>\n      <th>111159</th>\n      <td>10.0</td>\n      <td>4.0</td>\n      <td>2.0</td>\n      <td>2.0</td>\n      <td>1.0</td>\n      <td>1.0</td>\n      <td>1.0</td>\n      <td>2.0</td>\n      <td>4.0</td>\n      <td>3.0</td>\n      <td>...</td>\n      <td>509.8032</td>\n      <td>551.8421</td>\n      <td>580.6639</td>\n      <td>596.6756</td>\n      <td>585.2936</td>\n      <td>583.2789</td>\n      <td>571.0235</td>\n      <td>566.2138</td>\n      <td>595.1984</td>\n      <td>553.8403</td>\n    </tr>\n    <tr>\n      <th>...</th>\n      <td>...</td>\n      <td>...</td>\n      <td>...</td>\n      <td>...</td>\n      <td>...</td>\n      <td>...</td>\n      <td>...</td>\n      <td>...</td>\n      <td>...</td>\n      <td>...</td>\n      <td>...</td>\n      <td>...</td>\n      <td>...</td>\n      <td>...</td>\n      <td>...</td>\n      <td>...</td>\n      <td>...</td>\n      <td>...</td>\n      <td>...</td>\n      <td>...</td>\n      <td>...</td>\n    </tr>\n    <tr>\n      <th>117007</th>\n      <td>10.0</td>\n      <td>3.0</td>\n      <td>2.0</td>\n      <td>1.0</td>\n      <td>1.0</td>\n      <td>1.0</td>\n      <td>1.0</td>\n      <td>2.0</td>\n      <td>2.0</td>\n      <td>1.0</td>\n      <td>...</td>\n      <td>594.7836</td>\n      <td>576.5285</td>\n      <td>602.2600</td>\n      <td>592.2986</td>\n      <td>578.6207</td>\n      <td>609.3909</td>\n      <td>611.6502</td>\n      <td>607.4982</td>\n      <td>578.3984</td>\n      <td>567.6166</td>\n    </tr>\n    <tr>\n      <th>117008</th>\n      <td>10.0</td>\n      <td>1.0</td>\n      <td>2.0</td>\n      <td>1.0</td>\n      <td>2.0</td>\n      <td>2.0</td>\n      <td>1.0</td>\n      <td>2.0</td>\n      <td>3.0</td>\n      <td>3.0</td>\n      <td>...</td>\n      <td>475.6030</td>\n      <td>532.5477</td>\n      <td>525.1763</td>\n      <td>534.6003</td>\n      <td>564.8438</td>\n      <td>544.3440</td>\n      <td>501.1020</td>\n      <td>520.5181</td>\n      <td>514.6167</td>\n      <td>528.9199</td>\n    </tr>\n    <tr>\n      <th>117009</th>\n      <td>9.0</td>\n      <td>12.0</td>\n      <td>2.0</td>\n      <td>2.0</td>\n      <td>1.0</td>\n      <td>1.0</td>\n      <td>2.0</td>\n      <td>2.0</td>\n      <td>3.0</td>\n      <td>1.0</td>\n      <td>...</td>\n      <td>589.8292</td>\n      <td>541.1986</td>\n      <td>539.5075</td>\n      <td>577.3314</td>\n      <td>584.8321</td>\n      <td>556.0226</td>\n      <td>602.0464</td>\n      <td>578.3022</td>\n      <td>575.5695</td>\n      <td>553.3003</td>\n    </tr>\n    <tr>\n      <th>117010</th>\n      <td>10.0</td>\n      <td>3.0</td>\n      <td>1.0</td>\n      <td>1.0</td>\n      <td>1.0</td>\n      <td>1.0</td>\n      <td>1.0</td>\n      <td>4.0</td>\n      <td>4.0</td>\n      <td>4.0</td>\n      <td>...</td>\n      <td>586.2202</td>\n      <td>512.8787</td>\n      <td>526.6018</td>\n      <td>569.3770</td>\n      <td>571.2576</td>\n      <td>571.6544</td>\n      <td>557.7442</td>\n      <td>491.6458</td>\n      <td>587.0444</td>\n      <td>557.1557</td>\n    </tr>\n    <tr>\n      <th>117011</th>\n      <td>10.0</td>\n      <td>8.0</td>\n      <td>1.0</td>\n      <td>1.0</td>\n      <td>1.0</td>\n      <td>1.0</td>\n      <td>1.0</td>\n      <td>2.0</td>\n      <td>3.0</td>\n      <td>3.0</td>\n      <td>...</td>\n      <td>570.6131</td>\n      <td>559.7079</td>\n      <td>626.2401</td>\n      <td>539.2027</td>\n      <td>563.6279</td>\n      <td>596.4192</td>\n      <td>546.0893</td>\n      <td>618.5003</td>\n      <td>592.5850</td>\n      <td>591.7506</td>\n    </tr>\n  </tbody>\n</table>\n<p>5857 rows × 251 columns</p>\n</div>"
     },
     "execution_count": 58,
     "metadata": {},
     "output_type": "execute_result"
    }
   ],
   "source": [
    "# 刪除低變異數的特徵\n",
    "Taiwan_QQQ = Taiwan_QQQ.drop(quasi_constant_feature, axis=1)\n",
    "Taiwan_QQQ"
   ],
   "metadata": {
    "collapsed": false,
    "ExecuteTime": {
     "end_time": "2024-05-30T13:24:00.338550Z",
     "start_time": "2024-05-30T13:24:00.288446Z"
    }
   },
   "id": "8db0ce403466f9bc",
   "execution_count": 58
  },
  {
   "cell_type": "code",
   "outputs": [],
   "source": [
    "def SaveScoreLevel(name: str = \"Math\"):\n",
    "    column_name = \"\"\n",
    "    if (name == \"Math\"):\n",
    "        column_name = 'Math_score'\n",
    "    elif (name == \"Science\"):\n",
    "        column_name = 'Science_score'\n",
    "    elif (name == \"Reading\"):\n",
    "        column_name = 'Reading_score'\n",
    "    else:\n",
    "        return\n",
    "\n",
    "    copy_df = Taiwan_QQQ.copy()\n",
    "    # 假設 df 是你的 DataFrame，value_column 是要分割的列名\n",
    "    mean = Taiwan_QQQ[column_name].mean()\n",
    "    std = Taiwan_QQQ[column_name].std()\n",
    "\n",
    "    # 按照高斯分布的分位數創建一個新列 'category'\n",
    "    copy_df[f'{name}_level'] = pd.cut(copy_df[column_name], bins=[-np.inf, mean, np.inf],\n",
    "                                      labels=[0, 1])\n",
    "\n",
    "    copy_df.drop(['Math_score', 'Science_score', 'Reading_score'], axis=1, inplace=True)\n",
    "    copy_df.to_feather(f'Cleaned_2022_{name}.feather')"
   ],
   "metadata": {
    "collapsed": false,
    "ExecuteTime": {
     "end_time": "2024-05-30T13:24:00.343318Z",
     "start_time": "2024-05-30T13:24:00.339756Z"
    }
   },
   "id": "b3fd434428708257",
   "execution_count": 59
  },
  {
   "cell_type": "code",
   "outputs": [],
   "source": [
    "SaveScoreLevel(\"Math\")\n",
    "SaveScoreLevel(\"Science\")\n",
    "SaveScoreLevel(\"Reading\")"
   ],
   "metadata": {
    "collapsed": false,
    "ExecuteTime": {
     "end_time": "2024-05-30T13:24:00.460826Z",
     "start_time": "2024-05-30T13:24:00.344465Z"
    }
   },
   "id": "1be10bca4010ed8b",
   "execution_count": 60
  },
  {
   "cell_type": "code",
   "outputs": [],
   "source": [],
   "metadata": {
    "collapsed": false,
    "ExecuteTime": {
     "end_time": "2024-05-30T13:24:00.464822Z",
     "start_time": "2024-05-30T13:24:00.462928Z"
    }
   },
   "id": "53ab0c6c8cb072c8",
   "execution_count": 60
  }
 ],
 "metadata": {
  "kernelspec": {
   "display_name": "Python 3",
   "language": "python",
   "name": "python3"
  },
  "language_info": {
   "codemirror_mode": {
    "name": "ipython",
    "version": 2
   },
   "file_extension": ".py",
   "mimetype": "text/x-python",
   "name": "python",
   "nbconvert_exporter": "python",
   "pygments_lexer": "ipython2",
   "version": "2.7.6"
  }
 },
 "nbformat": 4,
 "nbformat_minor": 5
}
